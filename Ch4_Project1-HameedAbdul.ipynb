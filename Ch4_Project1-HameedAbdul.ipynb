{
 "cells": [
  {
   "cell_type": "code",
   "execution_count": 1,
   "metadata": {},
   "outputs": [],
   "source": [
    "from scipy.optimize import linprog\n",
    "import numpy as np"
   ]
  },
  {
   "cell_type": "markdown",
   "metadata": {},
   "source": [
    "\n",
    "# $Chapter \\ 4.6 \\ Problem \\ 2 $\n",
    "![](https://i.imgur.com/auoZEFO.png)"
   ]
  },
  {
   "cell_type": "code",
   "execution_count": 9,
   "metadata": {},
   "outputs": [
    {
     "data": {
      "text/plain": [
       "     con: array([], dtype=float64)\n",
       "     fun: -10.666666666666668\n",
       " message: 'Optimization terminated successfully.'\n",
       "     nit: 2\n",
       "   slack: array([0., 0.])\n",
       "  status: 0\n",
       " success: True\n",
       "       x: array([3.33333333, 1.33333333])"
      ]
     },
     "execution_count": 9,
     "metadata": {},
     "output_type": "execute_result"
    }
   ],
   "source": [
    "A = np.array([[1, 2], [2,1]])\n",
    "b = np.array([6, 8])\n",
    "z = np.array([-2, -3])\n",
    "\n",
    "linprog(\n",
    "    c = z, \n",
    "    A_ub= A, \n",
    "    b_ub=b,\n",
    "    bounds=(0, None),\n",
    "    method='simplex'\n",
    ")"
   ]
  },
  {
   "cell_type": "markdown",
   "metadata": {},
   "source": [
    "## Note) \n",
    "\n",
    "### Scipy's Simplex Algorithm Minimizes by default but negatating the coeffecients of a max objective allows us to solve for maximization problems. \n",
    "\n",
    "### However, when solving for maximization problems the resulting optimal solution ( fun: ) must be negated to get the correct value."
   ]
  },
  {
   "cell_type": "markdown",
   "metadata": {},
   "source": [
    "# $Chapter \\ 4.6 \\ Problem \\ 3 $\n",
    "![](https://i.imgur.com/1BtBh2y.png)"
   ]
  },
  {
   "cell_type": "code",
   "execution_count": 14,
   "metadata": {},
   "outputs": [
    {
     "data": {
      "text/plain": [
       "     con: array([], dtype=float64)\n",
       "     fun: -20.0\n",
       " message: 'Optimization terminated successfully.'\n",
       "     nit: 4\n",
       "   slack: array([30.,  0.,  0.])\n",
       "  status: 0\n",
       " success: True\n",
       "       x: array([10.,  0.,  0.])"
      ]
     },
     "execution_count": 14,
     "metadata": {},
     "output_type": "execute_result"
    }
   ],
   "source": [
    "A = np.array([[3, 1, 1], [2, 1, 2], [2, 2, 1]])\n",
    "b = np.array([60, 20, 20])\n",
    "z = np.array([-2, 1, -1])\n",
    "\n",
    "linprog(\n",
    "    c = z, \n",
    "    A_ub= A, \n",
    "    b_ub=b,\n",
    "    bounds=(0, None),\n",
    "    method='simplex'\n",
    ")"
   ]
  }
 ],
 "metadata": {
  "kernelspec": {
   "display_name": "Python 3",
   "language": "python",
   "name": "python3"
  },
  "language_info": {
   "codemirror_mode": {
    "name": "ipython",
    "version": 3
   },
   "file_extension": ".py",
   "mimetype": "text/x-python",
   "name": "python",
   "nbconvert_exporter": "python",
   "pygments_lexer": "ipython3",
   "version": "3.6.3"
  }
 },
 "nbformat": 4,
 "nbformat_minor": 2
}
