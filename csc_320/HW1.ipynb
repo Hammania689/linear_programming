{
 "cells": [
  {
   "cell_type": "code",
   "execution_count": 136,
   "metadata": {},
   "outputs": [],
   "source": [
    "from termcolor import colored\n",
    "import numpy as np\n",
    "\n",
    "# Custom error to pass message to\n",
    "class Dimension_Error(Exception):\n",
    "    pass\n",
    "\n",
    "def add_two_matrices(a, b):\n",
    "    \"\"\"\n",
    "        Use to add two matrices that share the same dimensions together.\n",
    "        Returns C, the sum of the two matrices \n",
    "\n",
    "        a,b : Matrices/Tensors to be added together\n",
    "    \"\"\"\n",
    "    \n",
    "    # Output for User's Sanity \n",
    "    print(f'Matrix Addition\\n{\"=\" * 30}')\n",
    "    print(f'A = {a}\\n')\n",
    "    print(f'B = {b}\\n')\n",
    "    print('A + B = C')\n",
    "    print(f'A\\'s size = {a.shape}')      \n",
    "    print(f'B\\'s size = {b.shape}')      \n",
    "    print()\n",
    "\n",
    "    # Check dimensions and raise a user friendly error, if nessecary\n",
    "    if a.shape != b.shape:\n",
    "        a_shape = colored(a.shape, 'red', 'on_white', attrs=['bold'] )\n",
    "        b_shape = colored(b.shape, 'red', 'on_white', attrs=['bold'] )\n",
    "        error = colored('Error', 'red', attrs=['blink'])\n",
    "        silly = colored('You trying to break me?', 'blue')\n",
    "        cust_eror = f\"{error} A has shape {a_shape} | B has shape {b_shape}\\n{silly}\"\n",
    "        print(cust_eror)\n",
    "        raise Dimension_Error(cust_eror)\n",
    "    \n",
    "    # Add and print results\n",
    "    c = a + b \n",
    "    print(f'C = {c}')\n",
    "    print('Done :)\\n\\n')\n",
    "    return c\n",
    "          \n",
    "def subtract_two_matrices(a, b):\n",
    "    \"\"\"\n",
    "        Use to add two matrices that share the same dimensions together.\n",
    "        Returns C, the difference of the two matrices \n",
    "\n",
    "        a,b : Matrices/Tensors to be subtracted together\n",
    "    \"\"\"\n",
    "    \n",
    "    # Output for User's Sanity \n",
    "    print(f'Matrix Subtraction\\n{\"=\" * 30}')\n",
    "    print(f'A = {a}\\n')\n",
    "    print(f'B = {b}\\n')\n",
    "    print('A + B = C')\n",
    "    print(f'A\\'s size = {a.shape}')      \n",
    "    print(f'B\\'s size = {b.shape}')      \n",
    "    print()\n",
    "\n",
    "    # Check dimensions and raise a user friendly error, if nessecary\n",
    "    if a.shape != b.shape:\n",
    "        a_shape = colored(a.shape, 'red', 'on_white', attrs=['bold'] )\n",
    "        b_shape = colored(b.shape, 'red', 'on_white', attrs=['bold'] )\n",
    "        error = colored('Error', 'red', attrs=['blink'])\n",
    "        silly = colored('You trying to break me?', 'blue')\n",
    "        cust_eror = f\"{error} A has shape {a_shape} | B has shape {b_shape}\\n{silly}\"\n",
    "        print(cust_eror)\n",
    "        raise Dimension_Error(cust_eror)\n",
    "    \n",
    "    # Subtract and print results\n",
    "    c = a - b \n",
    "    print(f'C = {c}')\n",
    "    print('Done :)\\n\\n')\n",
    "    return c\n",
    "          \n",
    "\n",
    "def multiply_two_matrices(a, b):\n",
    "    \"\"\"\n",
    "        Use to multiply two matrices that share the same outer and inner dim together.\n",
    "        Returns C, the product of the two matrices \n",
    "\n",
    "        a,b : Matrices/Tensors to be multiplied together\n",
    "    \"\"\"\n",
    "    \n",
    "    # Output for User's Sanity \n",
    "    print(f'Matrix Multiplication\\n{\"=\" * 30}')\n",
    "    print(f'A = {a}\\n')\n",
    "    print(f'B = {b}\\n')\n",
    "    print('A x B = C')\n",
    "    print(f'A\\'s size = {a.shape}')      \n",
    "    print(f'B\\'s size = {b.shape}')      \n",
    "    print()\n",
    "\n",
    "    # Check dimensions and raise a user friendly error, if nessecary\n",
    "    if a.shape[-1] != b.shape[0]:\n",
    "        a_shape = colored(a.shape[1], 'red', attrs=['bold', 'underline'] )\n",
    "        b_shape = colored(b.shape[0], 'red', attrs=['bold', 'underline'] )\n",
    "        error = colored('Error:', 'red', attrs=['blink'])\n",
    "        silly = colored('You trying to break me?', 'blue')\n",
    "        cust_eror = f\"{error} (m x {a_shape}) * ({b_shape} x n).. Not compatible\\n{silly}\"\n",
    "        print(cust_eror)\n",
    "        raise Dimension_Error(cust_eror)\n",
    "    \n",
    "    # Dot product and print results\n",
    "    c = np.dot(a, b) \n",
    "    print(f'C = {c}')\n",
    "    print(f'C has shape {c.shape[0]} x {c.shape[1]}')\n",
    "    print('Done :)\\n\\n')\n",
    "    return c"
   ]
  },
  {
   "cell_type": "markdown",
   "metadata": {},
   "source": [
    "# $$\\Large Addition\\ of\\ Matrices/Tensors\\\\ $$\n",
    "\n",
    "$$ \\Large A_{m \\times n} + B_{m \\times n}  =\\\\ \n",
    "\\large \\begin{matrix}\n",
    " a_{11} & a_{12}    & \\ldots &  a_{1n}\\\\\n",
    " a_{21}  &   a_{22} & \\ldots &  a_{2n}\\\\\n",
    "\\vdots & \\vdots & \\ddots & \\vdots\\\\\n",
    " a_{m1}  &    a_{m2}       &\\ldots &  a_{mn}\n",
    "\\end{matrix} + \\begin{matrix}\n",
    " b_{11} & b_{12}    & \\ldots &  b_{1n}\\\\\n",
    " b_{21}  &   b_{22} & \\ldots &  b_{2n}\\\\\n",
    "\\vdots & \\vdots & \\ddots & \\vdots\\\\\n",
    " b_{m1}  &    b_{m2}       &\\ldots &  b_{mn}\n",
    "\\end{matrix} = \n",
    "\\begin{matrix}\n",
    " c_{11} & c_{12}    & \\ldots &  c_{1n}\\\\\n",
    " c_{21}  &   c_{22} & \\ldots &  c_{2n}\\\\\n",
    "\\vdots & \\vdots & \\ddots & \\vdots\\\\\n",
    " c_{m1}  &    c_{m2}       &\\ldots &  c_{mn} \\end{matrix}  \\\\\n",
    "$$\n",
    "\n",
    "$$\n",
    "    \\Large Where\\ A\\ and \\ B\\ are\\ both\\ m \\times n \\ matrices\n",
    "$$"
   ]
  },
  {
   "cell_type": "code",
   "execution_count": 42,
   "metadata": {},
   "outputs": [
    {
     "name": "stdout",
     "output_type": "stream",
     "text": [
      "Matrix Addition\n",
      "==============================\n",
      "A = [[15  5  2]\n",
      " [ 2 15  1]]\n",
      "\n",
      "B = [[14  5  1]\n",
      " [ 5  7 13]]\n",
      "\n",
      "A + B = C\n",
      "A's size = (2, 3)\n",
      "B's size = (2, 3)\n",
      "\n",
      "C = [[29 10  3]\n",
      " [ 7 22 14]]\n",
      "Done :)\n",
      "\n",
      "\n"
     ]
    }
   ],
   "source": [
    "# Two matrices with matching dimensions\n",
    "a = np.random.randint(0, 20, (2,3))\n",
    "b = np.random.randint(0, 20, (2,3))\n",
    "c = add_two_matrices(a, b)"
   ]
  },
  {
   "cell_type": "markdown",
   "metadata": {},
   "source": [
    "## Two Matrices with mismatch dimensions... an invalid operation"
   ]
  },
  {
   "cell_type": "code",
   "execution_count": 37,
   "metadata": {},
   "outputs": [
    {
     "name": "stdout",
     "output_type": "stream",
     "text": [
      "Matrix Addition\n",
      "==============================\n",
      "A = [[13 19 13]\n",
      " [14 18 18]]\n",
      "\n",
      "B = [[17  2]\n",
      " [ 5  7]\n",
      " [ 3 19]\n",
      " [16 17]\n",
      " [17 12]]\n",
      "\n",
      "A + B = C\n",
      "A's size = (2, 3)\n",
      "B's size = (5, 2)\n",
      "\n",
      "\u001b[5m\u001b[31mError\u001b[0m A has shape \u001b[1m\u001b[47m\u001b[31m(2, 3)\u001b[0m | B has shape \u001b[1m\u001b[47m\u001b[31m(5, 2)\u001b[0m\n",
      "\u001b[34mYou trying to break me?\u001b[0m\n"
     ]
    },
    {
     "ename": "Dimension_Error",
     "evalue": "\u001b[5m\u001b[31mError\u001b[0m A has shape \u001b[1m\u001b[47m\u001b[31m(2, 3)\u001b[0m | B has shape \u001b[1m\u001b[47m\u001b[31m(5, 2)\u001b[0m\n\u001b[34mYou trying to break me?\u001b[0m",
     "output_type": "error",
     "traceback": [
      "\u001b[0;31m-------------------------------------------------\u001b[0m",
      "\u001b[0;31mDimension_Error\u001b[0m Traceback (most recent call last)",
      "\u001b[0;32m<ipython-input-37-7f827a691c3b>\u001b[0m in \u001b[0;36m<module>\u001b[0;34m\u001b[0m\n\u001b[1;32m      2\u001b[0m \u001b[0mc\u001b[0m \u001b[0;34m=\u001b[0m \u001b[0mnp\u001b[0m\u001b[0;34m.\u001b[0m\u001b[0mrandom\u001b[0m\u001b[0;34m.\u001b[0m\u001b[0mrandint\u001b[0m\u001b[0;34m(\u001b[0m\u001b[0;36m0\u001b[0m\u001b[0;34m,\u001b[0m \u001b[0;36m20\u001b[0m\u001b[0;34m,\u001b[0m \u001b[0;34m(\u001b[0m\u001b[0;36m2\u001b[0m\u001b[0;34m,\u001b[0m\u001b[0;36m3\u001b[0m\u001b[0;34m)\u001b[0m\u001b[0;34m)\u001b[0m\u001b[0;34m\u001b[0m\u001b[0m\n\u001b[1;32m      3\u001b[0m \u001b[0md\u001b[0m \u001b[0;34m=\u001b[0m \u001b[0mnp\u001b[0m\u001b[0;34m.\u001b[0m\u001b[0mrandom\u001b[0m\u001b[0;34m.\u001b[0m\u001b[0mrandint\u001b[0m\u001b[0;34m(\u001b[0m\u001b[0;36m0\u001b[0m\u001b[0;34m,\u001b[0m \u001b[0;36m20\u001b[0m\u001b[0;34m,\u001b[0m \u001b[0;34m(\u001b[0m\u001b[0;36m5\u001b[0m\u001b[0;34m,\u001b[0m\u001b[0;36m2\u001b[0m\u001b[0;34m)\u001b[0m\u001b[0;34m)\u001b[0m\u001b[0;34m\u001b[0m\u001b[0m\n\u001b[0;32m----> 4\u001b[0;31m \u001b[0madd_two_matrices\u001b[0m\u001b[0;34m(\u001b[0m\u001b[0mc\u001b[0m\u001b[0;34m,\u001b[0m \u001b[0md\u001b[0m\u001b[0;34m)\u001b[0m\u001b[0;34m\u001b[0m\u001b[0m\n\u001b[0m",
      "\u001b[0;32m<ipython-input-36-6281473c3ff3>\u001b[0m in \u001b[0;36madd_two_matrices\u001b[0;34m(a, b)\u001b[0m\n\u001b[1;32m     27\u001b[0m         \u001b[0mcust_eror\u001b[0m \u001b[0;34m=\u001b[0m \u001b[0;34mf\"{error} A has shape {a_shape} | B has shape {b_shape}\\n{silly}\"\u001b[0m\u001b[0;34m\u001b[0m\u001b[0m\n\u001b[1;32m     28\u001b[0m         \u001b[0mprint\u001b[0m\u001b[0;34m(\u001b[0m\u001b[0mcust_eror\u001b[0m\u001b[0;34m)\u001b[0m\u001b[0;34m\u001b[0m\u001b[0m\n\u001b[0;32m---> 29\u001b[0;31m         \u001b[0;32mraise\u001b[0m \u001b[0mDimension_Error\u001b[0m\u001b[0;34m(\u001b[0m\u001b[0mcust_eror\u001b[0m\u001b[0;34m)\u001b[0m\u001b[0;34m\u001b[0m\u001b[0m\n\u001b[0m\u001b[1;32m     30\u001b[0m \u001b[0;34m\u001b[0m\u001b[0m\n\u001b[1;32m     31\u001b[0m     \u001b[0;31m# Add and print results\u001b[0m\u001b[0;34m\u001b[0m\u001b[0;34m\u001b[0m\u001b[0m\n",
      "\u001b[0;31mDimension_Error\u001b[0m: \u001b[5m\u001b[31mError\u001b[0m A has shape \u001b[1m\u001b[47m\u001b[31m(2, 3)\u001b[0m | B has shape \u001b[1m\u001b[47m\u001b[31m(5, 2)\u001b[0m\n\u001b[34mYou trying to break me?\u001b[0m"
     ]
    }
   ],
   "source": [
    "# Two matrices with mismatch dimension\n",
    "c = np.random.randint(0, 20, (2,3))\n",
    "d = np.random.randint(0, 20, (5,2))\n",
    "add_two_matrices(c, d)"
   ]
  },
  {
   "cell_type": "markdown",
   "metadata": {},
   "source": [
    "# $$\\Large Subtraction\\ of\\ Matrices/Tensors\\\\ $$\n",
    "\n",
    "$$ \\Large A_{m \\times n} - B_{m \\times n}  =\\\\ \n",
    "\\large \\begin{matrix}\n",
    " a_{11} & a_{12}    & \\ldots &  a_{1n}\\\\\n",
    " a_{21}  &   a_{22} & \\ldots &  a_{2n}\\\\\n",
    "\\vdots & \\vdots & \\ddots & \\vdots\\\\\n",
    " a_{m1}  &    a_{m2}       &\\ldots &  a_{mn}\n",
    "\\end{matrix} - \\begin{matrix}\n",
    " b_{11} & b_{12}    & \\ldots &  b_{1n}\\\\\n",
    " b_{21}  &   b_{22} & \\ldots &  b_{2n}\\\\\n",
    "\\vdots & \\vdots & \\ddots & \\vdots\\\\\n",
    " b_{m1}  &    b_{m2}       &\\ldots &  b_{mn}\n",
    "\\end{matrix} = \n",
    "\\begin{matrix}\n",
    " c_{11} & c_{12}    & \\ldots &  c_{1n}\\\\\n",
    " c_{21}  &   c_{22} & \\ldots &  c_{2n}\\\\\n",
    "\\vdots & \\vdots & \\ddots & \\vdots\\\\\n",
    " c_{m1}  &    c_{m2}       &\\ldots &  c_{mn} \\end{matrix}  \\\\\n",
    "$$\n",
    "\n",
    "$$\n",
    "    \\Large Where\\ A\\ and \\ B\\ are\\ both\\ m \\times n \\ matrices\n",
    "$$"
   ]
  },
  {
   "cell_type": "code",
   "execution_count": 43,
   "metadata": {},
   "outputs": [
    {
     "name": "stdout",
     "output_type": "stream",
     "text": [
      "Matrix Subtraction\n",
      "==============================\n",
      "A = [[ 1  1  9]\n",
      " [19 15 14]]\n",
      "\n",
      "B = [[18 10 14]\n",
      " [ 7  5 13]]\n",
      "\n",
      "A + B = C\n",
      "A's size = (2, 3)\n",
      "B's size = (2, 3)\n",
      "\n",
      "C = [[-17  -9  -5]\n",
      " [ 12  10   1]]\n",
      "Done :)\n",
      "\n",
      "\n"
     ]
    }
   ],
   "source": [
    "# Two matrices with matching dimensions\n",
    "a = np.random.randint(0, 20, (2,3))\n",
    "b = np.random.randint(0, 20, (2,3))\n",
    "c = subtract_two_matrices(a, b)"
   ]
  },
  {
   "cell_type": "markdown",
   "metadata": {},
   "source": [
    "## Two Matrices with mismatch dimensions... an invalid operation"
   ]
  },
  {
   "cell_type": "code",
   "execution_count": 44,
   "metadata": {},
   "outputs": [
    {
     "name": "stdout",
     "output_type": "stream",
     "text": [
      "Matrix Subtraction\n",
      "==============================\n",
      "A = [[19  4 11]\n",
      " [ 9  7 11]]\n",
      "\n",
      "B = [[ 1  1]\n",
      " [11  9]\n",
      " [ 1  8]\n",
      " [17 12]\n",
      " [11 16]\n",
      " [13  4]\n",
      " [14  5]\n",
      " [14 10]]\n",
      "\n",
      "A + B = C\n",
      "A's size = (2, 3)\n",
      "B's size = (8, 2)\n",
      "\n",
      "\u001b[5m\u001b[31mError\u001b[0m A has shape \u001b[1m\u001b[47m\u001b[31m(2, 3)\u001b[0m | B has shape \u001b[1m\u001b[47m\u001b[31m(8, 2)\u001b[0m\n",
      "\u001b[34mYou trying to break me?\u001b[0m\n"
     ]
    },
    {
     "ename": "Dimension_Error",
     "evalue": "\u001b[5m\u001b[31mError\u001b[0m A has shape \u001b[1m\u001b[47m\u001b[31m(2, 3)\u001b[0m | B has shape \u001b[1m\u001b[47m\u001b[31m(8, 2)\u001b[0m\n\u001b[34mYou trying to break me?\u001b[0m",
     "output_type": "error",
     "traceback": [
      "\u001b[0;31m-------------------------------------------------\u001b[0m",
      "\u001b[0;31mDimension_Error\u001b[0m Traceback (most recent call last)",
      "\u001b[0;32m<ipython-input-44-ccfe3e531dad>\u001b[0m in \u001b[0;36m<module>\u001b[0;34m\u001b[0m\n\u001b[1;32m      2\u001b[0m \u001b[0ma\u001b[0m \u001b[0;34m=\u001b[0m \u001b[0mnp\u001b[0m\u001b[0;34m.\u001b[0m\u001b[0mrandom\u001b[0m\u001b[0;34m.\u001b[0m\u001b[0mrandint\u001b[0m\u001b[0;34m(\u001b[0m\u001b[0;36m0\u001b[0m\u001b[0;34m,\u001b[0m \u001b[0;36m20\u001b[0m\u001b[0;34m,\u001b[0m \u001b[0;34m(\u001b[0m\u001b[0;36m2\u001b[0m\u001b[0;34m,\u001b[0m\u001b[0;36m3\u001b[0m\u001b[0;34m)\u001b[0m\u001b[0;34m)\u001b[0m\u001b[0;34m\u001b[0m\u001b[0m\n\u001b[1;32m      3\u001b[0m \u001b[0mb\u001b[0m \u001b[0;34m=\u001b[0m \u001b[0mnp\u001b[0m\u001b[0;34m.\u001b[0m\u001b[0mrandom\u001b[0m\u001b[0;34m.\u001b[0m\u001b[0mrandint\u001b[0m\u001b[0;34m(\u001b[0m\u001b[0;36m0\u001b[0m\u001b[0;34m,\u001b[0m \u001b[0;36m20\u001b[0m\u001b[0;34m,\u001b[0m \u001b[0;34m(\u001b[0m\u001b[0;36m8\u001b[0m\u001b[0;34m,\u001b[0m\u001b[0;36m2\u001b[0m\u001b[0;34m)\u001b[0m\u001b[0;34m)\u001b[0m\u001b[0;34m\u001b[0m\u001b[0m\n\u001b[0;32m----> 4\u001b[0;31m \u001b[0mc\u001b[0m \u001b[0;34m=\u001b[0m \u001b[0msubtract_two_matrices\u001b[0m\u001b[0;34m(\u001b[0m\u001b[0ma\u001b[0m\u001b[0;34m,\u001b[0m \u001b[0mb\u001b[0m\u001b[0;34m)\u001b[0m\u001b[0;34m\u001b[0m\u001b[0m\n\u001b[0m",
      "\u001b[0;32m<ipython-input-40-c3b7f4ff6645>\u001b[0m in \u001b[0;36msubtract_two_matrices\u001b[0;34m(a, b)\u001b[0m\n\u001b[1;32m     60\u001b[0m         \u001b[0mcust_eror\u001b[0m \u001b[0;34m=\u001b[0m \u001b[0;34mf\"{error} A has shape {a_shape} | B has shape {b_shape}\\n{silly}\"\u001b[0m\u001b[0;34m\u001b[0m\u001b[0m\n\u001b[1;32m     61\u001b[0m         \u001b[0mprint\u001b[0m\u001b[0;34m(\u001b[0m\u001b[0mcust_eror\u001b[0m\u001b[0;34m)\u001b[0m\u001b[0;34m\u001b[0m\u001b[0m\n\u001b[0;32m---> 62\u001b[0;31m         \u001b[0;32mraise\u001b[0m \u001b[0mDimension_Error\u001b[0m\u001b[0;34m(\u001b[0m\u001b[0mcust_eror\u001b[0m\u001b[0;34m)\u001b[0m\u001b[0;34m\u001b[0m\u001b[0m\n\u001b[0m\u001b[1;32m     63\u001b[0m \u001b[0;34m\u001b[0m\u001b[0m\n\u001b[1;32m     64\u001b[0m     \u001b[0;31m# Subtract and print results\u001b[0m\u001b[0;34m\u001b[0m\u001b[0;34m\u001b[0m\u001b[0m\n",
      "\u001b[0;31mDimension_Error\u001b[0m: \u001b[5m\u001b[31mError\u001b[0m A has shape \u001b[1m\u001b[47m\u001b[31m(2, 3)\u001b[0m | B has shape \u001b[1m\u001b[47m\u001b[31m(8, 2)\u001b[0m\n\u001b[34mYou trying to break me?\u001b[0m"
     ]
    }
   ],
   "source": [
    "# Two matrices with mismatch dimensions\n",
    "a = np.random.randint(0, 20, (2,3))\n",
    "b = np.random.randint(0, 20, (8,2))\n",
    "c = subtract_two_matrices(a, b)"
   ]
  },
  {
   "cell_type": "markdown",
   "metadata": {},
   "source": [
    "# $$\\Large Multiplication\\ of\\ Matrices/Tensors\\\\ $$\n",
    "\n",
    "$$ \\Large A_{m \\times r} \\cdot B_{r \\times n}  = \\\\\n",
    "\\large \\begin{matrix}\n",
    " a_{11} & a_{12}    & \\ldots &  a_{1r}\\\\\n",
    " a_{21}  &   a_{22} & \\ldots &  a_{2r}\\\\\n",
    "\\vdots & \\vdots & \\ddots & \\vdots\\\\\n",
    " a_{m1}  &    a_{m2}       &\\ldots &  a_{mr}\n",
    "\\end{matrix} \\ * \\ \\begin{matrix}\n",
    " b_{11} & b_{12}    & \\ldots &  b_{1n}\\\\\n",
    " b_{21}  &   b_{22} & \\ldots &  b_{2n}\\\\\n",
    "\\vdots & \\vdots & \\ddots & \\vdots\\\\\n",
    " b_{r1}  &    b_{r2}       &\\ldots &  b_{rn}\n",
    "\\end{matrix} = \n",
    "\\begin{matrix}\n",
    " c_{11} & c_{12}    & \\ldots &  c_{1r}\\\\\n",
    " c_{21}  &   c_{22} & \\ldots &  c_{2r}\\\\\n",
    "\\vdots & \\vdots & \\ddots & \\vdots\\\\\n",
    " c_{r1}  &    c_{r2}       &\\ldots &  c_{rr}\n",
    "\\end{matrix} \\\\\n",
    "$$\n",
    "\n",
    "$$\n",
    "    \\Large Where\\ A_r\\ = \\ B_r\\ and\\ C\\ is\\ r\\times r \\ matrix\n",
    "$$"
   ]
  },
  {
   "cell_type": "code",
   "execution_count": 46,
   "metadata": {},
   "outputs": [
    {
     "name": "stdout",
     "output_type": "stream",
     "text": [
      "Matrix Multiplication\n",
      "==============================\n",
      "A = [[ 9 17 13]\n",
      " [19  2 13]\n",
      " [ 4 11 16]\n",
      " [ 0 12  6]\n",
      " [ 2 15  5]\n",
      " [13  0  2]\n",
      " [ 4  7 19]]\n",
      "\n",
      "B = [[15 12  9  5 17 15 12 19  3  5 11 18 14  6 18 16  0  3 16 12]\n",
      " [14 17  3 15  1 18  2  2 16  1  5  6 11  4  2  7  3 12 13  9]\n",
      " [16  3 10 14  9  1  2  4  6 11 18  5  5 16  3 14 17  2  5  2]]\n",
      "\n",
      "A x B = C\n",
      "A's size = (7, 3)\n",
      "B's size = (3, 20)\n",
      "\n",
      "C = [[581 436 262 482 287 454 168 257 377 205 418 329 378 330 235 445 272 257\n",
      "  430 287]\n",
      " [521 301 307 307 442 334 258 417 167 240 453 419 353 330 385 500 227 107\n",
      "  395 272]\n",
      " [470 283 229 409 223 274 102 162 284 207 387 218 257 324 142 365 305 176\n",
      "  287 179]\n",
      " [264 222  96 264  66 222  36  48 228  78 168 102 162 144  42 168 138 156\n",
      "  186 120]\n",
      " [320 294 113 305  94 305  64  88 276  80 187 151 218 152  81 207 130 196\n",
      "  252 169]\n",
      " [227 162 137  93 239 197 160 255  51  87 179 244 192 110 240 236  34  43\n",
      "  218 160]\n",
      " [462 224 247 391 246 205 100 166 238 236 421 209 228 356 143 379 344 134\n",
      "  250 149]]\n",
      "C has shape 7 x 20\n",
      "Done :)\n",
      "\n",
      "\n"
     ]
    }
   ],
   "source": [
    "# Two matrices with proper dimensions\n",
    "a = np.random.randint(0, 20, (7,3))\n",
    "b = np.random.randint(0, 20, (3,20))\n",
    "c = multiply_two_matrices(a, b)"
   ]
  },
  {
   "cell_type": "markdown",
   "metadata": {},
   "source": [
    "## Two Matrices with mismatch dimensions... an invalid operation"
   ]
  },
  {
   "cell_type": "code",
   "execution_count": 53,
   "metadata": {},
   "outputs": [
    {
     "name": "stdout",
     "output_type": "stream",
     "text": [
      "Matrix Multiplication\n",
      "==============================\n",
      "A = [[13  3  8  1 15 11 12]\n",
      " [ 4  1  5 14  5  3 14]\n",
      " [ 1 10 12 13  3  7  6]\n",
      " [ 0  8  5 10  2  3  1]\n",
      " [ 7  3  0  2 16 16 15]\n",
      " [12 15  9  7  9  4 11]\n",
      " [ 7  0  0 19  9 15 12]]\n",
      "\n",
      "B = [[ 2  2  9 13 10  1 15 11 14  7  5  8  4 16 18 17 17 18 13  3]\n",
      " [17  7  7 17 14  2 19  5  9 11  2 16  8  1 15  3 15 12  4  6]\n",
      " [16 12  6  0 15 14 14  1 15  5 11  6  5  9  9  7  1  6  2  4]]\n",
      "\n",
      "A x B = C\n",
      "A's size = (7, 7)\n",
      "B's size = (3, 20)\n",
      "\n",
      "\u001b[5m\u001b[31mError:\u001b[0m (m x \u001b[4m\u001b[1m\u001b[31m7\u001b[0m) * (\u001b[4m\u001b[1m\u001b[31m3\u001b[0m x n).. Not compatible\n",
      "\u001b[34mYou trying to break me?\u001b[0m\n"
     ]
    },
    {
     "ename": "Dimension_Error",
     "evalue": "\u001b[5m\u001b[31mError:\u001b[0m (m x \u001b[4m\u001b[1m\u001b[31m7\u001b[0m) * (\u001b[4m\u001b[1m\u001b[31m3\u001b[0m x n).. Not compatible\n\u001b[34mYou trying to break me?\u001b[0m",
     "output_type": "error",
     "traceback": [
      "\u001b[0;31m-------------------------------------------------\u001b[0m",
      "\u001b[0;31mDimension_Error\u001b[0m Traceback (most recent call last)",
      "\u001b[0;32m<ipython-input-53-62dba9b58d71>\u001b[0m in \u001b[0;36m<module>\u001b[0;34m\u001b[0m\n\u001b[1;32m      2\u001b[0m \u001b[0ma\u001b[0m \u001b[0;34m=\u001b[0m \u001b[0mnp\u001b[0m\u001b[0;34m.\u001b[0m\u001b[0mrandom\u001b[0m\u001b[0;34m.\u001b[0m\u001b[0mrandint\u001b[0m\u001b[0;34m(\u001b[0m\u001b[0;36m0\u001b[0m\u001b[0;34m,\u001b[0m \u001b[0;36m20\u001b[0m\u001b[0;34m,\u001b[0m \u001b[0;34m(\u001b[0m\u001b[0;36m7\u001b[0m\u001b[0;34m,\u001b[0m\u001b[0;36m7\u001b[0m\u001b[0;34m)\u001b[0m\u001b[0;34m)\u001b[0m\u001b[0;34m\u001b[0m\u001b[0m\n\u001b[1;32m      3\u001b[0m \u001b[0mb\u001b[0m \u001b[0;34m=\u001b[0m \u001b[0mnp\u001b[0m\u001b[0;34m.\u001b[0m\u001b[0mrandom\u001b[0m\u001b[0;34m.\u001b[0m\u001b[0mrandint\u001b[0m\u001b[0;34m(\u001b[0m\u001b[0;36m0\u001b[0m\u001b[0;34m,\u001b[0m \u001b[0;36m20\u001b[0m\u001b[0;34m,\u001b[0m \u001b[0;34m(\u001b[0m\u001b[0;36m3\u001b[0m\u001b[0;34m,\u001b[0m\u001b[0;36m20\u001b[0m\u001b[0;34m)\u001b[0m\u001b[0;34m)\u001b[0m\u001b[0;34m\u001b[0m\u001b[0m\n\u001b[0;32m----> 4\u001b[0;31m \u001b[0mc\u001b[0m \u001b[0;34m=\u001b[0m \u001b[0mmultiply_two_matrices\u001b[0m\u001b[0;34m(\u001b[0m\u001b[0ma\u001b[0m\u001b[0;34m,\u001b[0m \u001b[0mb\u001b[0m\u001b[0;34m)\u001b[0m\u001b[0;34m\u001b[0m\u001b[0m\n\u001b[0m",
      "\u001b[0;32m<ipython-input-52-82f44342cdee>\u001b[0m in \u001b[0;36mmultiply_two_matrices\u001b[0;34m(a, b)\u001b[0m\n\u001b[1;32m     24\u001b[0m         \u001b[0mcust_eror\u001b[0m \u001b[0;34m=\u001b[0m \u001b[0;34mf\"{error} (m x {a_shape}) * ({b_shape} x n).. Not compatible\\n{silly}\"\u001b[0m\u001b[0;34m\u001b[0m\u001b[0m\n\u001b[1;32m     25\u001b[0m         \u001b[0mprint\u001b[0m\u001b[0;34m(\u001b[0m\u001b[0mcust_eror\u001b[0m\u001b[0;34m)\u001b[0m\u001b[0;34m\u001b[0m\u001b[0m\n\u001b[0;32m---> 26\u001b[0;31m         \u001b[0;32mraise\u001b[0m \u001b[0mDimension_Error\u001b[0m\u001b[0;34m(\u001b[0m\u001b[0mcust_eror\u001b[0m\u001b[0;34m)\u001b[0m\u001b[0;34m\u001b[0m\u001b[0m\n\u001b[0m\u001b[1;32m     27\u001b[0m \u001b[0;34m\u001b[0m\u001b[0m\n\u001b[1;32m     28\u001b[0m     \u001b[0;31m# Dot product and print results\u001b[0m\u001b[0;34m\u001b[0m\u001b[0;34m\u001b[0m\u001b[0m\n",
      "\u001b[0;31mDimension_Error\u001b[0m: \u001b[5m\u001b[31mError:\u001b[0m (m x \u001b[4m\u001b[1m\u001b[31m7\u001b[0m) * (\u001b[4m\u001b[1m\u001b[31m3\u001b[0m x n).. Not compatible\n\u001b[34mYou trying to break me?\u001b[0m"
     ]
    }
   ],
   "source": [
    "# Two matrices with improper dimensions\n",
    "a = np.random.randint(0, 20, (7,7))\n",
    "b = np.random.randint(0, 20, (3,20))\n",
    "c = multiply_two_matrices(a, b)"
   ]
  },
  {
   "cell_type": "markdown",
   "metadata": {},
   "source": [
    "# $$\\large Scalar\\ Multiple \\ of\\ a \\ Matrix/Tensor \\\\\n",
    "5A = \\begin{matrix}\n",
    "5a_{11} & 5a_{12}    & \\ldots & 5a_{1n}\\\\\n",
    "5a_{21}  &  5a_{22} & \\ldots & 5a_{2n}\\\\\n",
    "\\vdots & \\vdots & \\ddots & \\vdots\\\\\n",
    "5a_{m1}  &   5a_{m2}       &\\ldots & 5a_{mn}\n",
    "\\end{matrix} \\\\ $$\n"
   ]
  },
  {
   "cell_type": "code",
   "execution_count": 134,
   "metadata": {},
   "outputs": [
    {
     "name": "stdout",
     "output_type": "stream",
     "text": [
      "Matrix a before scaled\n",
      "================================================\n",
      "[[0 3 3 7 9 5]\n",
      " [6 2 8 1 8 8]]\n",
      "\n",
      "Matrix a Scaled by 5\n",
      "================================================\n",
      "[[ 0 15 15 35 45 25]\n",
      " [30 10 40  5 40 40]]\n"
     ]
    }
   ],
   "source": [
    "a = np.random.randint(0,10, (2,6))\n",
    "print(f'Matrix a before scaled\\n{\"=\"*48}\\n{a}\\n')\n",
    "print(f'Matrix a Scaled by 5\\n{\"=\"*48}\\n{5 * a}')"
   ]
  },
  {
   "cell_type": "markdown",
   "metadata": {},
   "source": [
    "# $$ \\Large Transpose\\ of\\ a\\ Matrix $$\n",
    "$$ \\Large Simply\\ put\\ \\sum_{i,j = 0}^N A^\\mathsf{T}_{ij} = A_{ji}   $$\n",
    "\n",
    "<center> <img src=\"trans.gif\">"
   ]
  },
  {
   "cell_type": "code",
   "execution_count": 11,
   "metadata": {},
   "outputs": [
    {
     "name": "stdout",
     "output_type": "stream",
     "text": [
      "Before transpose: \n",
      "================================================\n",
      " [[[ 6  5]\n",
      "  [18  8]]\n",
      "\n",
      " [[ 5 17]\n",
      "  [16  6]]\n",
      "\n",
      " [[10  8]\n",
      "  [16 16]]]\n",
      "\n",
      "After transpose: \n",
      "================================================\n",
      " [[[ 6  5 10]\n",
      "  [18 16 16]]\n",
      "\n",
      " [[ 5 17  8]\n",
      "  [ 8  6 16]]]\n"
     ]
    }
   ],
   "source": [
    "a = np.random.randint(0, 20, (3,2, 2))\n",
    "print(f'Before transpose: \\n{\"=\" * 48}\\n {a}')\n",
    "a = np.transpose(a);\n",
    "print()\n",
    "print(f'After transpose: \\n{\"=\" * 48}\\n {a}')"
   ]
  },
  {
   "cell_type": "markdown",
   "metadata": {},
   "source": [
    "# Gauss-Jordan method"
   ]
  },
  {
   "cell_type": "code",
   "execution_count": 77,
   "metadata": {},
   "outputs": [
    {
     "name": "stdout",
     "output_type": "stream",
     "text": [
      "Linear combo:\n",
      " [[1. 0. 0. 0. 0.]\n",
      " [0. 1. 0. 0. 0.]\n",
      " [0. 0. 1. 0. 0.]\n",
      " [0. 0. 0. 1. 0.]\n",
      " [0. 0. 0. 0. 1.]] *x =  [0.5099534  0.40156309 0.52245251 0.94059202 0.04690028]\n",
      "\n",
      "Where x = [[0.5099534 ]\n",
      " [0.40156309]\n",
      " [0.52245251]\n",
      " [0.94059202]\n",
      " [0.04690028]]\n",
      "\n",
      "Linear combo:\n",
      " [[ 0.     0.     1.     0.   ]\n",
      " [ 2.     4.     1.     2.   ]\n",
      " [ 9.     3.     1.     0.8  ]\n",
      " [22.     0.128  4.     9.   ]] *x =  [ 0  2 30  8]\n",
      "\n",
      "Where x = [[ 3.15909643]\n",
      " [ 2.35386378]\n",
      " [-0.        ]\n",
      " [-6.866824  ]]\n",
      "\n"
     ]
    }
   ],
   "source": [
    "from numpy.linalg import solve\n",
    "\n",
    "linCombo = np.eye(5)\n",
    "answer = np.random.rand(5)\n",
    "\n",
    "print(f'Linear combo:\\n {linCombo} *x =  {answer}')\n",
    "solution = solve(linCombo, np.transpose(answer))\n",
    "print(f'\\nWhere x = {solution.reshape(-1,1) }')\n",
    "print()\n",
    "\n",
    "\n",
    "linCombo = np.array([[0,0,1,0], [2,4,1,2], [9,3,1,.8], [22, .128, 4, 9]])\n",
    "answer = np.array([0, 2, 30, 8])\n",
    "\n",
    "print(f'Linear combo:\\n {linCombo} *x =  {answer}')\n",
    "solution = solve(linCombo, np.transpose(answer))\n",
    "print(f'\\nWhere x = {solution.reshape(-1,1) }')\n",
    "print()"
   ]
  },
  {
   "cell_type": "markdown",
   "metadata": {},
   "source": [
    "# Inverse of a Matrix"
   ]
  },
  {
   "cell_type": "code",
   "execution_count": 12,
   "metadata": {},
   "outputs": [
    {
     "name": "stdout",
     "output_type": "stream",
     "text": [
      "Before Inverse Operation: \n",
      "================================================\n",
      " [[18 14 11 14]\n",
      " [10  6 18  4]]\n",
      "\n",
      "After Inverse Operation: \n",
      "================================================\n",
      " [[-19 -15 -12 -15]\n",
      " [-11  -7 -19  -5]]\n"
     ]
    }
   ],
   "source": [
    "a = np.random.randint(0, 22,(2, 4))\n",
    "print(f'Before Inverse Operation: \\n{\"=\" * 48}\\n {a}')\n",
    "a = np.invert(a)\n",
    "print()\n",
    "print(f'After Inverse Operation: \\n{\"=\" * 48}\\n {a}')"
   ]
  },
  {
   "cell_type": "markdown",
   "metadata": {},
   "source": [
    "# Rank of a Matrix/Tensor"
   ]
  },
  {
   "cell_type": "code",
   "execution_count": 115,
   "metadata": {},
   "outputs": [
    {
     "name": "stdout",
     "output_type": "stream",
     "text": [
      "[[1. 0. 0. 0.]\n",
      " [0. 1. 0. 0.]\n",
      " [0. 0. 1. 0.]\n",
      " [0. 0. 0. 1.]]\n",
      " Rank: 4\n",
      "\n",
      "[[1. 0. 0. 0.]\n",
      " [0. 1. 0. 0.]\n",
      " [0. 0. 1. 0.]\n",
      " [0. 0. 0. 0.]]\n",
      " Rank: 3\n"
     ]
    }
   ],
   "source": [
    "from numpy.linalg import matrix_rank\n",
    "\n",
    "# A 4x4 identity array\n",
    "i = np.eye(4)\n",
    "print(f'{i}\\n Rank: {matrix_rank(i)}')\n",
    "print()\n",
    "\n",
    "# Same array but with zeros in the last row\n",
    "i[-1][:] = np.zeros((1,i.shape[1]))\n",
    "print(f'{i}\\n Rank: {matrix_rank(i)}')\n"
   ]
  },
  {
   "cell_type": "markdown",
   "metadata": {},
   "source": [
    "# Determinates of Matrices/Tensors"
   ]
  },
  {
   "cell_type": "code",
   "execution_count": 123,
   "metadata": {},
   "outputs": [
    {
     "name": "stdout",
     "output_type": "stream",
     "text": [
      "[[3 4]\n",
      " [2 2]]\n",
      " Determinate: -2.00\n",
      "\n",
      "[[ 0 10  5 11  3]\n",
      " [ 9  2  3  1 13]\n",
      " [ 7 11 13  5 10]\n",
      " [13  1  1 13 11]\n",
      " [ 1  2  0  6  5]]\n",
      " Determinate: \n",
      "-26394.00\n",
      "\n",
      "\n"
     ]
    }
   ],
   "source": [
    "from numpy.linalg import det\n",
    "\n",
    "a = np.random.randint(1, 10, (2, 2))\n",
    "print(f'{a}\\n Determinate: {det(a):.2f}')\n",
    "print()\n",
    "\n",
    "norm = np.random.randint(0,14,(5,5))\n",
    "print(f'{norm}\\n Determinate: \\n{det(norm):.2f}\\n')\n",
    "print()"
   ]
  }
 ],
 "metadata": {
  "kernelspec": {
   "display_name": "Python 3",
   "language": "python",
   "name": "python3"
  },
  "language_info": {
   "codemirror_mode": {
    "name": "ipython",
    "version": 3
   },
   "file_extension": ".py",
   "mimetype": "text/x-python",
   "name": "python",
   "nbconvert_exporter": "python",
   "pygments_lexer": "ipython3",
   "version": "3.6.2"
  }
 },
 "nbformat": 4,
 "nbformat_minor": 2
}
