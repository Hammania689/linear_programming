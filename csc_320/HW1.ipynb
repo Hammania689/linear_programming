{
 "cells": [
  {
   "cell_type": "code",
   "execution_count": 1,
   "metadata": {},
   "outputs": [],
   "source": [
    "import numpy as np"
   ]
  },
  {
   "cell_type": "code",
   "execution_count": 3,
   "metadata": {},
   "outputs": [],
   "source": [
    "class Dimension_Error(Exception):\n",
    "    pass\n",
    "def add_two_matrices(a, b):\n",
    "    \"\"\"\n",
    "        Use to add two matrices that share the same dimensions together.\n",
    "        Returns C, the sum of the two matrices \n",
    "\n",
    "        a,b : Matrices/Tensors to be added together\n",
    "    \"\"\"\n",
    "    \n",
    "    # Output for User's Sanity \n",
    "    print(f'Matrix Addition\\n{\"=\" * 30}')\n",
    "    print(f'A = {a}\\n')\n",
    "    print(f'B = {b}\\n')\n",
    "    print('A + B = C')\n",
    "    print(f'A\\'s size = {a.shape}')      \n",
    "    print(f'B\\'s size = {b.shape}')      \n",
    "    print()\n",
    "\n",
    "    # Check dimensions and raise a user friendly error, if nessecary\n",
    "    if a.shape != b.shape:\n",
    "        raise Dimension_Error(\"Your dimension's do not match! You can not do this!\")\n",
    "    \n",
    "    # Add and print results\n",
    "    c = a + b \n",
    "    print(f'C = {c}')\n",
    "    print('Done :)\\n\\n')\n",
    "    return c\n",
    "          \n",
    "def subtract_two_matrices(a, b):\n",
    "    \"\"\"\n",
    "        Use to add two matrices that share the same dimensions together.\n",
    "        Returns C, the difference of the two matrices \n",
    "\n",
    "        a,b : Matrices/Tensors to be subtracted together\n",
    "    \"\"\"\n",
    "    \n",
    "    # Output for User's Sanity \n",
    "    print(f'Matrix Subtraction\\n{\"=\" * 30}')\n",
    "    print(f'A = {a}\\n')\n",
    "    print(f'B = {b}\\n')\n",
    "    print('A + B = C')\n",
    "    print(f'A\\'s size = {a.shape}')      \n",
    "    print(f'B\\'s size = {b.shape}')      \n",
    "    print()\n",
    "\n",
    "    # Check dimensions and raise a user friendly error, if nessecary\n",
    "    if a.shape != b.shape:\n",
    "        raise Dimension_Error(\"Your dimension's do not match! You can not do this!\")\n",
    "    \n",
    "    # Subtract and print results\n",
    "    c = a - b \n",
    "    print(f'C = {c}')\n",
    "    print('Done :)\\n\\n')\n",
    "    return c\n",
    "          "
   ]
  },
  {
   "cell_type": "markdown",
   "metadata": {},
   "source": [
    "# Addition of Matrices & Tensors"
   ]
  },
  {
   "cell_type": "code",
   "execution_count": 4,
   "metadata": {},
   "outputs": [
    {
     "name": "stdout",
     "output_type": "stream",
     "text": [
      "Matrix Addition\n",
      "==============================\n",
      "A = [[13 16 16]\n",
      " [ 9 14 15]]\n",
      "\n",
      "B = [[12  5 10]\n",
      " [ 8  4  4]]\n",
      "\n",
      "A + B = C\n",
      "A's size = (2, 3)\n",
      "B's size = (2, 3)\n",
      "\n",
      "C = [[25 21 26]\n",
      " [17 18 19]]\n",
      "Done :)\n",
      "\n",
      "\n"
     ]
    },
    {
     "data": {
      "text/plain": [
       "array([[25, 21, 26],\n",
       "       [17, 18, 19]])"
      ]
     },
     "execution_count": 4,
     "metadata": {},
     "output_type": "execute_result"
    }
   ],
   "source": [
    "# Two matrices with matching dimensions\n",
    "a = np.random.randint(0, 20, (2,3))\n",
    "b = np.random.randint(0, 20, (2,3))\n",
    "add_two_matrices(a, b)"
   ]
  },
  {
   "cell_type": "markdown",
   "metadata": {},
   "source": [
    "## Two Matrices with mismatch dimensions... an invalid operation"
   ]
  },
  {
   "cell_type": "code",
   "execution_count": 5,
   "metadata": {},
   "outputs": [
    {
     "name": "stdout",
     "output_type": "stream",
     "text": [
      "Matrix Addition\n",
      "==============================\n",
      "A = [[ 8  3  7]\n",
      " [10 12 10]]\n",
      "\n",
      "B = [[ 7 11]\n",
      " [ 1 16]\n",
      " [ 0 14]\n",
      " [ 8 19]\n",
      " [19  2]]\n",
      "\n",
      "A + B = C\n",
      "A's size = (2, 3)\n",
      "B's size = (5, 2)\n",
      "\n"
     ]
    },
    {
     "ename": "Dimension_Error",
     "evalue": "Your dimension's do not match! You can not do this!",
     "output_type": "error",
     "traceback": [
      "\u001b[0;31m---------------------------------------------------------------------------\u001b[0m",
      "\u001b[0;31mDimension_Error\u001b[0m                           Traceback (most recent call last)",
      "\u001b[0;32m<ipython-input-5-7f827a691c3b>\u001b[0m in \u001b[0;36m<module>\u001b[0;34m\u001b[0m\n\u001b[1;32m      2\u001b[0m \u001b[0mc\u001b[0m \u001b[0;34m=\u001b[0m \u001b[0mnp\u001b[0m\u001b[0;34m.\u001b[0m\u001b[0mrandom\u001b[0m\u001b[0;34m.\u001b[0m\u001b[0mrandint\u001b[0m\u001b[0;34m(\u001b[0m\u001b[0;36m0\u001b[0m\u001b[0;34m,\u001b[0m \u001b[0;36m20\u001b[0m\u001b[0;34m,\u001b[0m \u001b[0;34m(\u001b[0m\u001b[0;36m2\u001b[0m\u001b[0;34m,\u001b[0m\u001b[0;36m3\u001b[0m\u001b[0;34m)\u001b[0m\u001b[0;34m)\u001b[0m\u001b[0;34m\u001b[0m\u001b[0m\n\u001b[1;32m      3\u001b[0m \u001b[0md\u001b[0m \u001b[0;34m=\u001b[0m \u001b[0mnp\u001b[0m\u001b[0;34m.\u001b[0m\u001b[0mrandom\u001b[0m\u001b[0;34m.\u001b[0m\u001b[0mrandint\u001b[0m\u001b[0;34m(\u001b[0m\u001b[0;36m0\u001b[0m\u001b[0;34m,\u001b[0m \u001b[0;36m20\u001b[0m\u001b[0;34m,\u001b[0m \u001b[0;34m(\u001b[0m\u001b[0;36m5\u001b[0m\u001b[0;34m,\u001b[0m\u001b[0;36m2\u001b[0m\u001b[0;34m)\u001b[0m\u001b[0;34m)\u001b[0m\u001b[0;34m\u001b[0m\u001b[0m\n\u001b[0;32m----> 4\u001b[0;31m \u001b[0madd_two_matrices\u001b[0m\u001b[0;34m(\u001b[0m\u001b[0mc\u001b[0m\u001b[0;34m,\u001b[0m \u001b[0md\u001b[0m\u001b[0;34m)\u001b[0m\u001b[0;34m\u001b[0m\u001b[0m\n\u001b[0m",
      "\u001b[0;32m<ipython-input-3-a8520cc9fcf4>\u001b[0m in \u001b[0;36madd_two_matrices\u001b[0;34m(a, b)\u001b[0m\n\u001b[1;32m     20\u001b[0m     \u001b[0;31m# Check dimensions and raise a user friendly error, if nessecary\u001b[0m\u001b[0;34m\u001b[0m\u001b[0;34m\u001b[0m\u001b[0m\n\u001b[1;32m     21\u001b[0m     \u001b[0;32mif\u001b[0m \u001b[0ma\u001b[0m\u001b[0;34m.\u001b[0m\u001b[0mshape\u001b[0m \u001b[0;34m!=\u001b[0m \u001b[0mb\u001b[0m\u001b[0;34m.\u001b[0m\u001b[0mshape\u001b[0m\u001b[0;34m:\u001b[0m\u001b[0;34m\u001b[0m\u001b[0m\n\u001b[0;32m---> 22\u001b[0;31m         \u001b[0;32mraise\u001b[0m \u001b[0mDimension_Error\u001b[0m\u001b[0;34m(\u001b[0m\u001b[0;34m\"Your dimension's do not match! You can not do this!\"\u001b[0m\u001b[0;34m)\u001b[0m\u001b[0;34m\u001b[0m\u001b[0m\n\u001b[0m\u001b[1;32m     23\u001b[0m \u001b[0;34m\u001b[0m\u001b[0m\n\u001b[1;32m     24\u001b[0m     \u001b[0;31m# Add and print results\u001b[0m\u001b[0;34m\u001b[0m\u001b[0;34m\u001b[0m\u001b[0m\n",
      "\u001b[0;31mDimension_Error\u001b[0m: Your dimension's do not match! You can not do this!"
     ]
    }
   ],
   "source": [
    "# Two matrices with mismatch dimension\n",
    "c = np.random.randint(0, 20, (2,3))\n",
    "d = np.random.randint(0, 20, (5,2))\n",
    "add_two_matrices(c, d)"
   ]
  },
  {
   "cell_type": "markdown",
   "metadata": {},
   "source": [
    "# Subtraction of Matrices & Tensors"
   ]
  },
  {
   "cell_type": "code",
   "execution_count": 6,
   "metadata": {},
   "outputs": [
    {
     "name": "stdout",
     "output_type": "stream",
     "text": [
      "Matrix Subtraction\n",
      "==============================\n",
      "A = [[10  5  3]\n",
      " [19  1 17]]\n",
      "\n",
      "B = [[11  1 17]\n",
      " [12  5  5]]\n",
      "\n",
      "A + B = C\n",
      "A's size = (2, 3)\n",
      "B's size = (2, 3)\n",
      "\n",
      "C = [[ -1   4 -14]\n",
      " [  7  -4  12]]\n",
      "Done :)\n",
      "\n",
      "\n"
     ]
    }
   ],
   "source": [
    "# Two matrices with matching dimensions\n",
    "a = np.random.randint(0, 20, (2,3))\n",
    "b = np.random.randint(0, 20, (2,3))\n",
    "c = subtract_two_matrices(a, b)"
   ]
  },
  {
   "cell_type": "markdown",
   "metadata": {},
   "source": [
    "## Two Matrices with mismatch dimensions... an invalid operation"
   ]
  },
  {
   "cell_type": "code",
   "execution_count": 7,
   "metadata": {},
   "outputs": [
    {
     "name": "stdout",
     "output_type": "stream",
     "text": [
      "Matrix Subtraction\n",
      "==============================\n",
      "A = [[ 5  8 18]\n",
      " [ 2 16  5]]\n",
      "\n",
      "B = [[15 16]\n",
      " [ 1 12]\n",
      " [11  7]\n",
      " [14 14]\n",
      " [ 3 10]\n",
      " [14  7]\n",
      " [ 2 12]\n",
      " [13  5]]\n",
      "\n",
      "A + B = C\n",
      "A's size = (2, 3)\n",
      "B's size = (8, 2)\n",
      "\n"
     ]
    },
    {
     "ename": "Dimension_Error",
     "evalue": "Your dimension's do not match! You can not do this!",
     "output_type": "error",
     "traceback": [
      "\u001b[0;31m---------------------------------------------------------------------------\u001b[0m",
      "\u001b[0;31mDimension_Error\u001b[0m                           Traceback (most recent call last)",
      "\u001b[0;32m<ipython-input-7-ccfe3e531dad>\u001b[0m in \u001b[0;36m<module>\u001b[0;34m\u001b[0m\n\u001b[1;32m      2\u001b[0m \u001b[0ma\u001b[0m \u001b[0;34m=\u001b[0m \u001b[0mnp\u001b[0m\u001b[0;34m.\u001b[0m\u001b[0mrandom\u001b[0m\u001b[0;34m.\u001b[0m\u001b[0mrandint\u001b[0m\u001b[0;34m(\u001b[0m\u001b[0;36m0\u001b[0m\u001b[0;34m,\u001b[0m \u001b[0;36m20\u001b[0m\u001b[0;34m,\u001b[0m \u001b[0;34m(\u001b[0m\u001b[0;36m2\u001b[0m\u001b[0;34m,\u001b[0m\u001b[0;36m3\u001b[0m\u001b[0;34m)\u001b[0m\u001b[0;34m)\u001b[0m\u001b[0;34m\u001b[0m\u001b[0m\n\u001b[1;32m      3\u001b[0m \u001b[0mb\u001b[0m \u001b[0;34m=\u001b[0m \u001b[0mnp\u001b[0m\u001b[0;34m.\u001b[0m\u001b[0mrandom\u001b[0m\u001b[0;34m.\u001b[0m\u001b[0mrandint\u001b[0m\u001b[0;34m(\u001b[0m\u001b[0;36m0\u001b[0m\u001b[0;34m,\u001b[0m \u001b[0;36m20\u001b[0m\u001b[0;34m,\u001b[0m \u001b[0;34m(\u001b[0m\u001b[0;36m8\u001b[0m\u001b[0;34m,\u001b[0m\u001b[0;36m2\u001b[0m\u001b[0;34m)\u001b[0m\u001b[0;34m)\u001b[0m\u001b[0;34m\u001b[0m\u001b[0m\n\u001b[0;32m----> 4\u001b[0;31m \u001b[0mc\u001b[0m \u001b[0;34m=\u001b[0m \u001b[0msubtract_two_matrices\u001b[0m\u001b[0;34m(\u001b[0m\u001b[0ma\u001b[0m\u001b[0;34m,\u001b[0m \u001b[0mb\u001b[0m\u001b[0;34m)\u001b[0m\u001b[0;34m\u001b[0m\u001b[0m\n\u001b[0m",
      "\u001b[0;32m<ipython-input-3-a8520cc9fcf4>\u001b[0m in \u001b[0;36msubtract_two_matrices\u001b[0;34m(a, b)\u001b[0m\n\u001b[1;32m     47\u001b[0m     \u001b[0;31m# Check dimensions and raise a user friendly error, if nessecary\u001b[0m\u001b[0;34m\u001b[0m\u001b[0;34m\u001b[0m\u001b[0m\n\u001b[1;32m     48\u001b[0m     \u001b[0;32mif\u001b[0m \u001b[0ma\u001b[0m\u001b[0;34m.\u001b[0m\u001b[0mshape\u001b[0m \u001b[0;34m!=\u001b[0m \u001b[0mb\u001b[0m\u001b[0;34m.\u001b[0m\u001b[0mshape\u001b[0m\u001b[0;34m:\u001b[0m\u001b[0;34m\u001b[0m\u001b[0m\n\u001b[0;32m---> 49\u001b[0;31m         \u001b[0;32mraise\u001b[0m \u001b[0mDimension_Error\u001b[0m\u001b[0;34m(\u001b[0m\u001b[0;34m\"Your dimension's do not match! You can not do this!\"\u001b[0m\u001b[0;34m)\u001b[0m\u001b[0;34m\u001b[0m\u001b[0m\n\u001b[0m\u001b[1;32m     50\u001b[0m \u001b[0;34m\u001b[0m\u001b[0m\n\u001b[1;32m     51\u001b[0m     \u001b[0;31m# Subtract and print results\u001b[0m\u001b[0;34m\u001b[0m\u001b[0;34m\u001b[0m\u001b[0m\n",
      "\u001b[0;31mDimension_Error\u001b[0m: Your dimension's do not match! You can not do this!"
     ]
    }
   ],
   "source": [
    "# Two matrices with mismatch dimensions\n",
    "a = np.random.randint(0, 20, (2,3))\n",
    "b = np.random.randint(0, 20, (8,2))\n",
    "c = subtract_two_matrices(a, b)"
   ]
  },
  {
   "cell_type": "markdown",
   "metadata": {},
   "source": [
    "# Matrix multiplication"
   ]
  },
  {
   "cell_type": "code",
   "execution_count": 8,
   "metadata": {},
   "outputs": [],
   "source": [
    "def multiply_two_matrices(a, b):\n",
    "    \"\"\"\n",
    "        Use to multiply two matrices that share the same outer and inner dim together.\n",
    "        Returns C, the product of the two matrices \n",
    "\n",
    "        a,b : Matrices/Tensors to be multiplied together\n",
    "    \"\"\"\n",
    "    \n",
    "    # Output for User's Sanity \n",
    "    print(f'Matrix Multiplication\\n{\"=\" * 30}')\n",
    "    print(f'A = {a}\\n')\n",
    "    print(f'B = {b}\\n')\n",
    "    print('A x B = C')\n",
    "    print(f'A\\'s size = {a.shape}')      \n",
    "    print(f'B\\'s size = {b.shape}')      \n",
    "    print()\n",
    "\n",
    "    # Check dimensions and raise a user friendly error, if nessecary\n",
    "    if a.shape[-1] != b.shape[0]:\n",
    "        print(f'm x {a.shape[1]} and  {b.shape[0]} x n are not incompatible')\n",
    "        raise Dimension_Error(\"Your dimension's do not match! You can not do this!\")\n",
    "    \n",
    "    # Dot product and print results\n",
    "    c = np.dot(a, b) \n",
    "    print(f'C = {c}')\n",
    "    print(f'C has shape {c.shape[0]} x {c.shape[1]}')\n",
    "    print('Done :)\\n\\n')\n",
    "    return c\n",
    "          "
   ]
  },
  {
   "cell_type": "code",
   "execution_count": 9,
   "metadata": {},
   "outputs": [
    {
     "name": "stdout",
     "output_type": "stream",
     "text": [
      "Matrix Multiplication\n",
      "==============================\n",
      "A = [[15  4 12]\n",
      " [11 14  0]\n",
      " [ 0 14 19]\n",
      " [ 7 11 17]\n",
      " [17  5  3]\n",
      " [18 17 15]\n",
      " [ 2  5 17]]\n",
      "\n",
      "B = [[ 6 15  2  1  0  8  3  3 15  7 13 18  8 14 12 11 17  3  0  2]\n",
      " [12  0 11  0 13 15  2  9  2  4  8 19 16  6 14 18  2  8  6  1]\n",
      " [ 9 16  9 14  2  6 19  6  5 14 17  5  5  9  0  5  1 16 11  6]]\n",
      "\n",
      "A x B = C\n",
      "A's size = (7, 3)\n",
      "B's size = (3, 20)\n",
      "\n",
      "C = [[246 417 182 183  76 252 281 153 293 289 431 406 244 342 236 297 275 269\n",
      "  156 106]\n",
      " [234 165 176  11 182 298  61 159 193 133 255 464 312 238 328 373 215 145\n",
      "   84  36]\n",
      " [339 304 325 266 220 324 389 240 123 322 435 361 319 255 196 347  47 416\n",
      "  293 128]\n",
      " [327 377 288 245 177 323 366 222 212 331 468 420 317 317 238 360 158 381\n",
      "  253 127]\n",
      " [189 303 116  59  71 229 118 114 280 181 312 416 231 295 274 292 302 139\n",
      "   63  57]\n",
      " [447 510 358 228 251 489 373 297 379 404 625 722 491 489 454 579 355 430\n",
      "  267 143]\n",
      " [225 302 212 240  99 193 339 153 125 272 355 216 181 211  94 197  61 318\n",
      "  217 111]]\n",
      "C has shape 7 x 20\n",
      "Done :)\n",
      "\n",
      "\n"
     ]
    }
   ],
   "source": [
    "# Two matrices with proper dimensions\n",
    "a = np.random.randint(0, 20, (7,3))\n",
    "b = np.random.randint(0, 20, (3,20))\n",
    "c = multiply_two_matrices(a, b)"
   ]
  },
  {
   "cell_type": "markdown",
   "metadata": {},
   "source": [
    "## Two Matrices with mismatch dimensions... an invalid operation"
   ]
  },
  {
   "cell_type": "code",
   "execution_count": 10,
   "metadata": {},
   "outputs": [
    {
     "name": "stdout",
     "output_type": "stream",
     "text": [
      "Matrix Multiplication\n",
      "==============================\n",
      "A = [[12  6  3  4  0 13  7]\n",
      " [12  9 11  8  1 19 11]\n",
      " [ 2  4  0 17 12 13  3]\n",
      " [ 8 17  7 16  8 16 13]\n",
      " [ 3 12 15 19 10 12  5]\n",
      " [10  1 12 18 12 18 19]\n",
      " [11  0 17 15  1  8 18]]\n",
      "\n",
      "B = [[16  7  2 14 11  0  5 19 11 14 18 14 18  6 13  4  6 12  4  3]\n",
      " [ 8  7 17 14  9  8  8 16 18  7 13  2 14 18  0  1 10 13 10 13]\n",
      " [ 9 10 15 17 16  3 13 14  9 14  1 19  9  1 15 11  5 13 11  9]]\n",
      "\n",
      "A x B = C\n",
      "A's size = (7, 7)\n",
      "B's size = (3, 20)\n",
      "\n",
      "m x 7 and  3 x n are not incompatible\n"
     ]
    },
    {
     "ename": "Dimension_Error",
     "evalue": "Your dimension's do not match! You can not do this!",
     "output_type": "error",
     "traceback": [
      "\u001b[0;31m---------------------------------------------------------------------------\u001b[0m",
      "\u001b[0;31mDimension_Error\u001b[0m                           Traceback (most recent call last)",
      "\u001b[0;32m<ipython-input-10-62dba9b58d71>\u001b[0m in \u001b[0;36m<module>\u001b[0;34m\u001b[0m\n\u001b[1;32m      2\u001b[0m \u001b[0ma\u001b[0m \u001b[0;34m=\u001b[0m \u001b[0mnp\u001b[0m\u001b[0;34m.\u001b[0m\u001b[0mrandom\u001b[0m\u001b[0;34m.\u001b[0m\u001b[0mrandint\u001b[0m\u001b[0;34m(\u001b[0m\u001b[0;36m0\u001b[0m\u001b[0;34m,\u001b[0m \u001b[0;36m20\u001b[0m\u001b[0;34m,\u001b[0m \u001b[0;34m(\u001b[0m\u001b[0;36m7\u001b[0m\u001b[0;34m,\u001b[0m\u001b[0;36m7\u001b[0m\u001b[0;34m)\u001b[0m\u001b[0;34m)\u001b[0m\u001b[0;34m\u001b[0m\u001b[0m\n\u001b[1;32m      3\u001b[0m \u001b[0mb\u001b[0m \u001b[0;34m=\u001b[0m \u001b[0mnp\u001b[0m\u001b[0;34m.\u001b[0m\u001b[0mrandom\u001b[0m\u001b[0;34m.\u001b[0m\u001b[0mrandint\u001b[0m\u001b[0;34m(\u001b[0m\u001b[0;36m0\u001b[0m\u001b[0;34m,\u001b[0m \u001b[0;36m20\u001b[0m\u001b[0;34m,\u001b[0m \u001b[0;34m(\u001b[0m\u001b[0;36m3\u001b[0m\u001b[0;34m,\u001b[0m\u001b[0;36m20\u001b[0m\u001b[0;34m)\u001b[0m\u001b[0;34m)\u001b[0m\u001b[0;34m\u001b[0m\u001b[0m\n\u001b[0;32m----> 4\u001b[0;31m \u001b[0mc\u001b[0m \u001b[0;34m=\u001b[0m \u001b[0mmultiply_two_matrices\u001b[0m\u001b[0;34m(\u001b[0m\u001b[0ma\u001b[0m\u001b[0;34m,\u001b[0m \u001b[0mb\u001b[0m\u001b[0;34m)\u001b[0m\u001b[0;34m\u001b[0m\u001b[0m\n\u001b[0m",
      "\u001b[0;32m<ipython-input-8-51c04d5338d1>\u001b[0m in \u001b[0;36mmultiply_two_matrices\u001b[0;34m(a, b)\u001b[0m\n\u001b[1;32m     19\u001b[0m     \u001b[0;32mif\u001b[0m \u001b[0ma\u001b[0m\u001b[0;34m.\u001b[0m\u001b[0mshape\u001b[0m\u001b[0;34m[\u001b[0m\u001b[0;34m-\u001b[0m\u001b[0;36m1\u001b[0m\u001b[0;34m]\u001b[0m \u001b[0;34m!=\u001b[0m \u001b[0mb\u001b[0m\u001b[0;34m.\u001b[0m\u001b[0mshape\u001b[0m\u001b[0;34m[\u001b[0m\u001b[0;36m0\u001b[0m\u001b[0;34m]\u001b[0m\u001b[0;34m:\u001b[0m\u001b[0;34m\u001b[0m\u001b[0m\n\u001b[1;32m     20\u001b[0m         \u001b[0mprint\u001b[0m\u001b[0;34m(\u001b[0m\u001b[0;34mf'm x {a.shape[1]} and  {b.shape[0]} x n are not incompatible'\u001b[0m\u001b[0;34m)\u001b[0m\u001b[0;34m\u001b[0m\u001b[0m\n\u001b[0;32m---> 21\u001b[0;31m         \u001b[0;32mraise\u001b[0m \u001b[0mDimension_Error\u001b[0m\u001b[0;34m(\u001b[0m\u001b[0;34m\"Your dimension's do not match! You can not do this!\"\u001b[0m\u001b[0;34m)\u001b[0m\u001b[0;34m\u001b[0m\u001b[0m\n\u001b[0m\u001b[1;32m     22\u001b[0m \u001b[0;34m\u001b[0m\u001b[0m\n\u001b[1;32m     23\u001b[0m     \u001b[0;31m# Dot product and print results\u001b[0m\u001b[0;34m\u001b[0m\u001b[0;34m\u001b[0m\u001b[0m\n",
      "\u001b[0;31mDimension_Error\u001b[0m: Your dimension's do not match! You can not do this!"
     ]
    }
   ],
   "source": [
    "# Two matrices with improper dimensions\n",
    "a = np.random.randint(0, 20, (7,7))\n",
    "b = np.random.randint(0, 20, (3,20))\n",
    "c = multiply_two_matrices(a, b)"
   ]
  },
  {
   "cell_type": "markdown",
   "metadata": {},
   "source": [
    "# Scale of a Matrix\n"
   ]
  },
  {
   "cell_type": "code",
   "execution_count": 53,
   "metadata": {},
   "outputs": [
    {
     "name": "stdout",
     "output_type": "stream",
     "text": [
      "3 x 4 matrix: \n",
      "================================================\n",
      "[[-4 38  0  5]\n",
      " [15  3 29 13]\n",
      " [ 8 -1 -1 -2]]\n",
      "\n",
      "1 x 4 (To be tranposed to 4 x 1) : \n",
      "================================================\n",
      " [0.4 0.8 0.2 1. ]\n",
      "\n"
     ]
    },
    {
     "data": {
      "text/plain": [
       "array([33.8, 27.2,  0.2])"
      ]
     },
     "execution_count": 53,
     "metadata": {},
     "output_type": "execute_result"
    }
   ],
   "source": [
    "s = np.random.randint(-4, 40, (3, 4))\n",
    "xyz = np.array([.4, .8, .2, 1])\n",
    "print(f'3 x 4 matrix: \\n{\"=\" * 48}')\n",
    "print(s)\n",
    "print()\n",
    "      \n",
    "print(f'1 x 4 (To be tranposed to 4 x 1) : \\n{\"=\" * 48}\\n {xyz}')\n",
    "s_scale = np.dot(s, xyz)\n",
    "s_scale = np.transpose(s_scale)\n",
    "print()\n",
    "s_scale"
   ]
  },
  {
   "cell_type": "markdown",
   "metadata": {},
   "source": [
    "# Transpose of a Matrix"
   ]
  },
  {
   "cell_type": "code",
   "execution_count": 11,
   "metadata": {},
   "outputs": [
    {
     "name": "stdout",
     "output_type": "stream",
     "text": [
      "Before transpose: \n",
      "================================================\n",
      " [[[ 6  5]\n",
      "  [18  8]]\n",
      "\n",
      " [[ 5 17]\n",
      "  [16  6]]\n",
      "\n",
      " [[10  8]\n",
      "  [16 16]]]\n",
      "\n",
      "After transpose: \n",
      "================================================\n",
      " [[[ 6  5 10]\n",
      "  [18 16 16]]\n",
      "\n",
      " [[ 5 17  8]\n",
      "  [ 8  6 16]]]\n"
     ]
    }
   ],
   "source": [
    "a = np.random.randint(0, 20, (3,2, 2))\n",
    "print(f'Before transpose: \\n{\"=\" * 48}\\n {a}')\n",
    "a = np.transpose(a);\n",
    "print()\n",
    "print(f'After transpose: \\n{\"=\" * 48}\\n {a}')"
   ]
  },
  {
   "cell_type": "markdown",
   "metadata": {},
   "source": [
    "# Gauss-Jordan method"
   ]
  },
  {
   "cell_type": "code",
   "execution_count": 77,
   "metadata": {},
   "outputs": [
    {
     "name": "stdout",
     "output_type": "stream",
     "text": [
      "Linear combo:\n",
      " [[1. 0. 0. 0. 0.]\n",
      " [0. 1. 0. 0. 0.]\n",
      " [0. 0. 1. 0. 0.]\n",
      " [0. 0. 0. 1. 0.]\n",
      " [0. 0. 0. 0. 1.]] *x =  [0.8819444  0.10502552 0.50895461 0.13054228 0.7275116 ]\n",
      "[0.8819444  0.10502552 0.50895461 0.13054228 0.7275116 ]\n",
      "\n",
      "Linear combo:\n",
      " [[ 0.     0.     1.     0.   ]\n",
      " [ 2.     4.     1.     2.   ]\n",
      " [ 9.     3.     1.     0.8  ]\n",
      " [22.     0.128  4.     9.   ]] * x = [ 0  2 30  8]\n",
      "Where x = [ 3.15909643  2.35386378 -0.         -6.866824  ]\n",
      "\n"
     ]
    }
   ],
   "source": [
    "from numpy.linalg import solve\n",
    "\n",
    "linCombo = np.eye(5)\n",
    "answer = np.random.rand(5)\n",
    "\n",
    "print(f'Linear combo:\\n {linCombo} *x =  {answer}')\n",
    "solution = solve(linCombo, np.transpose(answer))\n",
    "print(f'{solution}')\n",
    "print()\n",
    "\n",
    "\n",
    "linCombo = np.array([[0,0,1,0], [2,4,1,2], [9,3,1,.8], [22, .128, 4, 9]])\n",
    "answer = np.array([0, 2, 30, 8])\n",
    "\n",
    "print(f'Linear combo:\\n {linCombo} * x = {answer}')\n",
    "solution = solve(linCombo, answer)\n",
    "print(f'Where x = {solution}')\n",
    "print()"
   ]
  },
  {
   "cell_type": "markdown",
   "metadata": {},
   "source": [
    "# Inverse of a Matrix"
   ]
  },
  {
   "cell_type": "code",
   "execution_count": 12,
   "metadata": {},
   "outputs": [
    {
     "name": "stdout",
     "output_type": "stream",
     "text": [
      "Before Inverse Operation: \n",
      "================================================\n",
      " [[18 14 11 14]\n",
      " [10  6 18  4]]\n",
      "\n",
      "After Inverse Operation: \n",
      "================================================\n",
      " [[-19 -15 -12 -15]\n",
      " [-11  -7 -19  -5]]\n"
     ]
    }
   ],
   "source": [
    "a = np.random.randint(0, 22,(2, 4))\n",
    "print(f'Before Inverse Operation: \\n{\"=\" * 48}\\n {a}')\n",
    "a = np.invert(a)\n",
    "print()\n",
    "print(f'After Inverse Operation: \\n{\"=\" * 48}\\n {a}')"
   ]
  },
  {
   "cell_type": "markdown",
   "metadata": {},
   "source": [
    "# Rank of a Matrix/Tensor"
   ]
  },
  {
   "cell_type": "code",
   "execution_count": 15,
   "metadata": {},
   "outputs": [
    {
     "name": "stdout",
     "output_type": "stream",
     "text": [
      "[[1. 0. 0. 0.]\n",
      " [0. 1. 0. 0.]\n",
      " [0. 0. 1. 0.]\n",
      " [0. 0. 0. 1.]]\n",
      " Rank: 4\n",
      "\n",
      "[[[9.26641966e-01 1.40617492e-01]\n",
      "  [2.76646874e-01 6.93432706e-01]\n",
      "  [5.80321407e-04 8.58553128e-01]\n",
      "  [9.64710237e-01 3.91288204e-01]\n",
      "  [2.04610874e-01 2.78527552e-01]]\n",
      "\n",
      " [[4.18687307e-01 5.14562745e-01]\n",
      "  [8.89500548e-01 9.12876525e-02]\n",
      "  [4.94550154e-01 5.74229407e-01]\n",
      "  [7.37459845e-01 3.01175176e-01]\n",
      "  [1.61471014e-01 7.49510677e-02]]]\n",
      " Rank: [2 2]\n"
     ]
    }
   ],
   "source": [
    "from numpy.linalg import matrix_rank\n",
    "\n",
    "i = np.eye(4)\n",
    "print(f'{i}\\n Rank: {matrix_rank(i)}')\n",
    "print()\n",
    "\n",
    "x = np.random.rand(2, 5, 2)\n",
    "print(f'{x}\\n Rank: {matrix_rank(x)}')\n"
   ]
  },
  {
   "cell_type": "markdown",
   "metadata": {},
   "source": [
    "# Determinates of Matrices/Tensors"
   ]
  },
  {
   "cell_type": "code",
   "execution_count": 24,
   "metadata": {},
   "outputs": [
    {
     "name": "stdout",
     "output_type": "stream",
     "text": [
      "[[  52   52 -100]\n",
      " [ -40   90   26]\n",
      " [ -97    9  -80]]\n",
      " Determinate: -1521112.000000002\n",
      "\n",
      "[[-1.38178508 -1.17813688]\n",
      " [ 0.89188565  1.15918085]\n",
      " [-0.87687608  0.43023999]\n",
      " [ 0.3124563  -0.89023657]]\n",
      " Determinate: \n",
      "[[-1.38178508 -1.17813688]\n",
      " [ 0.89188565  1.15918085]\n",
      " [-0.87687608  0.43023999]\n",
      " [ 0.3124563  -0.89023657]]\n",
      "\n",
      "\n"
     ]
    }
   ],
   "source": [
    "from numpy.linalg import det\n",
    "\n",
    "a = np.random.randint(-100, 100, (3, 3))\n",
    "print(f'{a}\\n Determinate: {det(a)}')\n",
    "print()\n",
    "\n",
    "norm = np.random.randn(4,2)\n",
    "print(f'{norm}\\n Determinate: \\n{norm}\\n')\n",
    "print()"
   ]
  }
 ],
 "metadata": {
  "kernelspec": {
   "display_name": "Python 3",
   "language": "python",
   "name": "python3"
  },
  "language_info": {
   "codemirror_mode": {
    "name": "ipython",
    "version": 3
   },
   "file_extension": ".py",
   "mimetype": "text/x-python",
   "name": "python",
   "nbconvert_exporter": "python",
   "pygments_lexer": "ipython3",
   "version": "3.6.2"
  }
 },
 "nbformat": 4,
 "nbformat_minor": 2
}
