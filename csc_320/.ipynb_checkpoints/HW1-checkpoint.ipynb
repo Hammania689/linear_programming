{
 "cells": [
  {
   "cell_type": "code",
   "execution_count": 1,
   "metadata": {},
   "outputs": [],
   "source": [
    "import numpy as np"
   ]
  },
  {
   "cell_type": "code",
   "execution_count": null,
   "metadata": {},
   "outputs": [],
   "source": [
    "\"\"\"\n",
    "Function List:\n",
    "Add\n",
    "Subtract\n",
    "Multiply\n",
    "Scale\n",
    "Transpose\n",
    "Gauss-Jordan Method\n",
    "Inverse\n",
    "Rank\n",
    "Determinates\n",
    "\"\"\""
   ]
  },
  {
   "cell_type": "markdown",
   "metadata": {},
   "source": [
    "## Addition and Subtraction of Matrices & Tensors"
   ]
  },
  {
   "cell_type": "code",
   "execution_count": 12,
   "metadata": {},
   "outputs": [],
   "source": [
    "class Dimension_Error(Exception):\n",
    "    pass\n",
    "def add_two_matrices(a, b):\n",
    "    \"\"\"\n",
    "        Use to add two matrices that share the same dimensions together.\n",
    "        Returns C, the sum of the two matrices \n",
    "\n",
    "        a,b : Matrices/Tensors to be added together\n",
    "    \"\"\"\n",
    "    \n",
    "    # Output for User's Sanity \n",
    "    print(f'Matrix Addition\\n{\"=\" * 30}')\n",
    "    print(f'A = {a}\\n')\n",
    "    print(f'B = {b}\\n')\n",
    "    print('A + B = C')\n",
    "    print(f'A\\'s size = {a.shape}')      \n",
    "    print(f'B\\'s size = {b.shape}')      \n",
    "    print()\n",
    "\n",
    "    # Check dimensions and raise a user friendly error, if nessecary\n",
    "    if a.shape != b.shape:\n",
    "        raise Dimension_Error(\"Your dimension's do not match! You can not do this!\")\n",
    "    \n",
    "    # Add and print results\n",
    "    c = a + b \n",
    "    print(f'C = {c}')\n",
    "    print('Done :)\\n\\n')\n",
    "    return c\n",
    "          \n",
    "def subtract_two_matrices(a, b):\n",
    "    \"\"\"\n",
    "        Use to add two matrices that share the same dimensions together.\n",
    "        Returns C, the sum of the two matrices \n",
    "\n",
    "        a,b : Matrices/Tensors to be added together\n",
    "    \"\"\"\n",
    "    \n",
    "    # Output for User's Sanity \n",
    "    print(f'Matrix Subtraction\\n{\"=\" * 30}')\n",
    "    print(f'A = {a}\\n')\n",
    "    print(f'B = {b}\\n')\n",
    "    print('A + B = C')\n",
    "    print(f'A\\'s size = {a.shape}')      \n",
    "    print(f'B\\'s size = {b.shape}')      \n",
    "    print()\n",
    "\n",
    "    # Check dimensions and raise a user friendly error, if nessecary\n",
    "    if a.shape != b.shape:\n",
    "        raise Dimension_Error(\"Your dimension's do not match! You can not do this!\")\n",
    "    \n",
    "    # Subtract and print results\n",
    "    c = a - b \n",
    "    print(f'C = {c}')\n",
    "    print('Done :)\\n\\n')\n",
    "    return c\n",
    "          "
   ]
  },
  {
   "cell_type": "code",
   "execution_count": 13,
   "metadata": {},
   "outputs": [
    {
     "name": "stdout",
     "output_type": "stream",
     "text": [
      "Matrix Addition\n",
      "==============================\n",
      "A = [[ 2  8 11]\n",
      " [ 2  6  4]]\n",
      "\n",
      "B = [[ 0  1  1]\n",
      " [13  5  5]]\n",
      "\n",
      "A + B = C\n",
      "A's size = (2, 3)\n",
      "B's size = (2, 3)\n",
      "\n",
      "C = [[ 2  9 12]\n",
      " [15 11  9]]\n",
      "Done :)\n",
      "\n",
      "\n"
     ]
    },
    {
     "data": {
      "text/plain": [
       "array([[ 2,  9, 12],\n",
       "       [15, 11,  9]])"
      ]
     },
     "execution_count": 13,
     "metadata": {},
     "output_type": "execute_result"
    }
   ],
   "source": [
    "# Two matrices with matching dimensions\n",
    "a = np.random.randint(0, 20, (2,3))\n",
    "b = np.random.randint(0, 20, (2,3))\n",
    "add_two_matrices(a, b)"
   ]
  },
  {
   "cell_type": "code",
   "execution_count": 14,
   "metadata": {},
   "outputs": [
    {
     "name": "stdout",
     "output_type": "stream",
     "text": [
      "Matrix Addition\n",
      "==============================\n",
      "A = [[ 7  9  0]\n",
      " [19  1  5]]\n",
      "\n",
      "B = [[ 7  4]\n",
      " [ 5 16]\n",
      " [ 8  0]\n",
      " [10  6]\n",
      " [ 1  0]]\n",
      "\n",
      "A + B = C\n",
      "A's size = (2, 3)\n",
      "B's size = (5, 2)\n",
      "\n"
     ]
    },
    {
     "ename": "Dimension_Error",
     "evalue": "Your dimension's do not match! You can not do this!",
     "output_type": "error",
     "traceback": [
      "\u001b[0;31m---------------------------------------\u001b[0m",
      "\u001b[0;31mDimension_Error\u001b[0mTraceback (most recent call last)",
      "\u001b[0;32m<ipython-input-14-7f827a691c3b>\u001b[0m in \u001b[0;36m<module>\u001b[0;34m\u001b[0m\n\u001b[1;32m      2\u001b[0m \u001b[0mc\u001b[0m \u001b[0;34m=\u001b[0m \u001b[0mnp\u001b[0m\u001b[0;34m.\u001b[0m\u001b[0mrandom\u001b[0m\u001b[0;34m.\u001b[0m\u001b[0mrandint\u001b[0m\u001b[0;34m(\u001b[0m\u001b[0;36m0\u001b[0m\u001b[0;34m,\u001b[0m \u001b[0;36m20\u001b[0m\u001b[0;34m,\u001b[0m \u001b[0;34m(\u001b[0m\u001b[0;36m2\u001b[0m\u001b[0;34m,\u001b[0m\u001b[0;36m3\u001b[0m\u001b[0;34m)\u001b[0m\u001b[0;34m)\u001b[0m\u001b[0;34m\u001b[0m\u001b[0m\n\u001b[1;32m      3\u001b[0m \u001b[0md\u001b[0m \u001b[0;34m=\u001b[0m \u001b[0mnp\u001b[0m\u001b[0;34m.\u001b[0m\u001b[0mrandom\u001b[0m\u001b[0;34m.\u001b[0m\u001b[0mrandint\u001b[0m\u001b[0;34m(\u001b[0m\u001b[0;36m0\u001b[0m\u001b[0;34m,\u001b[0m \u001b[0;36m20\u001b[0m\u001b[0;34m,\u001b[0m \u001b[0;34m(\u001b[0m\u001b[0;36m5\u001b[0m\u001b[0;34m,\u001b[0m\u001b[0;36m2\u001b[0m\u001b[0;34m)\u001b[0m\u001b[0;34m)\u001b[0m\u001b[0;34m\u001b[0m\u001b[0m\n\u001b[0;32m----> 4\u001b[0;31m \u001b[0madd_two_matrices\u001b[0m\u001b[0;34m(\u001b[0m\u001b[0mc\u001b[0m\u001b[0;34m,\u001b[0m \u001b[0md\u001b[0m\u001b[0;34m)\u001b[0m\u001b[0;34m\u001b[0m\u001b[0m\n\u001b[0m",
      "\u001b[0;32m<ipython-input-12-a2bc145a7535>\u001b[0m in \u001b[0;36madd_two_matrices\u001b[0;34m(a, b)\u001b[0m\n\u001b[1;32m     20\u001b[0m     \u001b[0;31m# Check dimensions and raise a user friendly error, if nessecary\u001b[0m\u001b[0;34m\u001b[0m\u001b[0;34m\u001b[0m\u001b[0m\n\u001b[1;32m     21\u001b[0m     \u001b[0;32mif\u001b[0m \u001b[0ma\u001b[0m\u001b[0;34m.\u001b[0m\u001b[0mshape\u001b[0m \u001b[0;34m!=\u001b[0m \u001b[0mb\u001b[0m\u001b[0;34m.\u001b[0m\u001b[0mshape\u001b[0m\u001b[0;34m:\u001b[0m\u001b[0;34m\u001b[0m\u001b[0m\n\u001b[0;32m---> 22\u001b[0;31m         \u001b[0;32mraise\u001b[0m \u001b[0mDimension_Error\u001b[0m\u001b[0;34m(\u001b[0m\u001b[0;34m\"Your dimension's do not match! You can not do this!\"\u001b[0m\u001b[0;34m)\u001b[0m\u001b[0;34m\u001b[0m\u001b[0m\n\u001b[0m\u001b[1;32m     23\u001b[0m \u001b[0;34m\u001b[0m\u001b[0m\n\u001b[1;32m     24\u001b[0m     \u001b[0;31m# Add and print results\u001b[0m\u001b[0;34m\u001b[0m\u001b[0;34m\u001b[0m\u001b[0m\n",
      "\u001b[0;31mDimension_Error\u001b[0m: Your dimension's do not match! You can not do this!"
     ]
    }
   ],
   "source": [
    "# Two matrices with mismatch dimension\n",
    "c = np.random.randint(0, 20, (2,3))\n",
    "d = np.random.randint(0, 20, (5,2))\n",
    "add_two_matrices(c, d)"
   ]
  },
  {
   "cell_type": "code",
   "execution_count": 15,
   "metadata": {},
   "outputs": [
    {
     "name": "stdout",
     "output_type": "stream",
     "text": [
      "Matrix Subtraction\n",
      "==============================\n",
      "A = [[ 6  0  2]\n",
      " [14 11  7]]\n",
      "\n",
      "B = [[10  0 10]\n",
      " [ 9  5  3]]\n",
      "\n",
      "A + B = C\n",
      "A's size = (2, 3)\n",
      "B's size = (2, 3)\n",
      "\n",
      "C = [[-4  0 -8]\n",
      " [ 5  6  4]]\n",
      "Done :)\n",
      "\n",
      "\n"
     ]
    },
    {
     "data": {
      "text/plain": [
       "array([[-4,  0, -8],\n",
       "       [ 5,  6,  4]])"
      ]
     },
     "execution_count": 15,
     "metadata": {},
     "output_type": "execute_result"
    }
   ],
   "source": [
    "# Two matrices with matching dimensions\n",
    "a = np.random.randint(0, 20, (2,3))\n",
    "b = np.random.randint(0, 20, (2,3))\n",
    "subtract_two_matrices(a, b)"
   ]
  },
  {
   "cell_type": "code",
   "execution_count": 16,
   "metadata": {},
   "outputs": [
    {
     "name": "stdout",
     "output_type": "stream",
     "text": [
      "Matrix Subtraction\n",
      "==============================\n",
      "A = [[16 18 16]\n",
      " [ 1  6  1]]\n",
      "\n",
      "B = [[15 12]\n",
      " [16  2]\n",
      " [ 8 13]\n",
      " [ 1  0]\n",
      " [16  9]\n",
      " [14 10]\n",
      " [17 12]\n",
      " [15  8]]\n",
      "\n",
      "A + B = C\n",
      "A's size = (2, 3)\n",
      "B's size = (8, 2)\n",
      "\n"
     ]
    },
    {
     "ename": "Dimension_Error",
     "evalue": "Your dimension's do not match! You can not do this!",
     "output_type": "error",
     "traceback": [
      "\u001b[0;31m---------------------------------------\u001b[0m",
      "\u001b[0;31mDimension_Error\u001b[0mTraceback (most recent call last)",
      "\u001b[0;32m<ipython-input-16-96f7a31a9b02>\u001b[0m in \u001b[0;36m<module>\u001b[0;34m\u001b[0m\n\u001b[1;32m      2\u001b[0m \u001b[0ma\u001b[0m \u001b[0;34m=\u001b[0m \u001b[0mnp\u001b[0m\u001b[0;34m.\u001b[0m\u001b[0mrandom\u001b[0m\u001b[0;34m.\u001b[0m\u001b[0mrandint\u001b[0m\u001b[0;34m(\u001b[0m\u001b[0;36m0\u001b[0m\u001b[0;34m,\u001b[0m \u001b[0;36m20\u001b[0m\u001b[0;34m,\u001b[0m \u001b[0;34m(\u001b[0m\u001b[0;36m2\u001b[0m\u001b[0;34m,\u001b[0m\u001b[0;36m3\u001b[0m\u001b[0;34m)\u001b[0m\u001b[0;34m)\u001b[0m\u001b[0;34m\u001b[0m\u001b[0m\n\u001b[1;32m      3\u001b[0m \u001b[0mb\u001b[0m \u001b[0;34m=\u001b[0m \u001b[0mnp\u001b[0m\u001b[0;34m.\u001b[0m\u001b[0mrandom\u001b[0m\u001b[0;34m.\u001b[0m\u001b[0mrandint\u001b[0m\u001b[0;34m(\u001b[0m\u001b[0;36m0\u001b[0m\u001b[0;34m,\u001b[0m \u001b[0;36m20\u001b[0m\u001b[0;34m,\u001b[0m \u001b[0;34m(\u001b[0m\u001b[0;36m8\u001b[0m\u001b[0;34m,\u001b[0m\u001b[0;36m2\u001b[0m\u001b[0;34m)\u001b[0m\u001b[0;34m)\u001b[0m\u001b[0;34m\u001b[0m\u001b[0m\n\u001b[0;32m----> 4\u001b[0;31m \u001b[0msubtract_two_matrices\u001b[0m\u001b[0;34m(\u001b[0m\u001b[0ma\u001b[0m\u001b[0;34m,\u001b[0m \u001b[0mb\u001b[0m\u001b[0;34m)\u001b[0m\u001b[0;34m\u001b[0m\u001b[0m\n\u001b[0m",
      "\u001b[0;32m<ipython-input-12-a2bc145a7535>\u001b[0m in \u001b[0;36msubtract_two_matrices\u001b[0;34m(a, b)\u001b[0m\n\u001b[1;32m     47\u001b[0m     \u001b[0;31m# Check dimensions and raise a user friendly error, if nessecary\u001b[0m\u001b[0;34m\u001b[0m\u001b[0;34m\u001b[0m\u001b[0m\n\u001b[1;32m     48\u001b[0m     \u001b[0;32mif\u001b[0m \u001b[0ma\u001b[0m\u001b[0;34m.\u001b[0m\u001b[0mshape\u001b[0m \u001b[0;34m!=\u001b[0m \u001b[0mb\u001b[0m\u001b[0;34m.\u001b[0m\u001b[0mshape\u001b[0m\u001b[0;34m:\u001b[0m\u001b[0;34m\u001b[0m\u001b[0m\n\u001b[0;32m---> 49\u001b[0;31m         \u001b[0;32mraise\u001b[0m \u001b[0mDimension_Error\u001b[0m\u001b[0;34m(\u001b[0m\u001b[0;34m\"Your dimension's do not match! You can not do this!\"\u001b[0m\u001b[0;34m)\u001b[0m\u001b[0;34m\u001b[0m\u001b[0m\n\u001b[0m\u001b[1;32m     50\u001b[0m \u001b[0;34m\u001b[0m\u001b[0m\n\u001b[1;32m     51\u001b[0m     \u001b[0;31m# Subtract and print results\u001b[0m\u001b[0;34m\u001b[0m\u001b[0;34m\u001b[0m\u001b[0m\n",
      "\u001b[0;31mDimension_Error\u001b[0m: Your dimension's do not match! You can not do this!"
     ]
    }
   ],
   "source": [
    "# Two matrices with mismatch dimensions\n",
    "a = np.random.randint(0, 20, (2,3))\n",
    "b = np.random.randint(0, 20, (8,2))\n",
    "subtract_two_matrices(a, b)"
   ]
  }
 ],
 "metadata": {
  "kernelspec": {
   "display_name": "Python 3",
   "language": "python",
   "name": "python3"
  },
  "language_info": {
   "codemirror_mode": {
    "name": "ipython",
    "version": 3
   },
   "file_extension": ".py",
   "mimetype": "text/x-python",
   "name": "python",
   "nbconvert_exporter": "python",
   "pygments_lexer": "ipython3",
   "version": "3.6.2"
  }
 },
 "nbformat": 4,
 "nbformat_minor": 2
}
