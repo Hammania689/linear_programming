{
 "cells": [
  {
   "cell_type": "code",
   "execution_count": 1,
   "metadata": {},
   "outputs": [],
   "source": [
    "from termcolor import colored\n",
    "import numpy as np\n",
    "\n",
    "# Custom error to pass message to\n",
    "class Dimension_Error(Exception):\n",
    "    pass\n",
    "\n",
    "def add_two_matrices(a, b):\n",
    "    \"\"\"\n",
    "        Use to add two matrices that share the same dimensions together.\n",
    "        Returns C, the sum of the two matrices \n",
    "\n",
    "        a,b : Matrices/Tensors to be added together\n",
    "    \"\"\"\n",
    "    \n",
    "    # Output for User's Sanity \n",
    "    print(f'Matrix Addition\\n{\"=\" * 30}')\n",
    "    print(f'A = {a}\\n')\n",
    "    print(f'B = {b}\\n')\n",
    "    print('A + B = C')\n",
    "    print(f'A\\'s size = {a.shape}')      \n",
    "    print(f'B\\'s size = {b.shape}')      \n",
    "    print()\n",
    "\n",
    "    # Check dimensions and raise a user friendly error, if nessecary\n",
    "    if a.shape != b.shape:\n",
    "        a_shape = colored(a.shape, 'red', 'on_white', attrs=['bold'] )\n",
    "        b_shape = colored(b.shape, 'red', 'on_white', attrs=['bold'] )\n",
    "        error = colored('Error', 'red', attrs=['blink'])\n",
    "        silly = colored('You trying to break me?', 'blue')\n",
    "        cust_eror = f\"{error} A has shape {a_shape} | B has shape {b_shape}\\n{silly}\"\n",
    "        print(cust_eror)\n",
    "        raise Dimension_Error(cust_eror)\n",
    "    \n",
    "    # Add and print results\n",
    "    c = a + b \n",
    "    print(f'C = {c}')\n",
    "    print('Done :)\\n\\n')\n",
    "    return c\n",
    "          \n",
    "def subtract_two_matrices(a, b):\n",
    "    \"\"\"\n",
    "        Use to add two matrices that share the same dimensions together.\n",
    "        Returns C, the difference of the two matrices \n",
    "\n",
    "        a,b : Matrices/Tensors to be subtracted together\n",
    "    \"\"\"\n",
    "    \n",
    "    # Output for User's Sanity \n",
    "    print(f'Matrix Subtraction\\n{\"=\" * 30}')\n",
    "    print(f'A = {a}\\n')\n",
    "    print(f'B = {b}\\n')\n",
    "    print('A + B = C')\n",
    "    print(f'A\\'s size = {a.shape}')      \n",
    "    print(f'B\\'s size = {b.shape}')      \n",
    "    print()\n",
    "\n",
    "    # Check dimensions and raise a user friendly error, if nessecary\n",
    "    if a.shape != b.shape:\n",
    "        a_shape = colored(a.shape, 'red', 'on_white', attrs=['bold'] )\n",
    "        b_shape = colored(b.shape, 'red', 'on_white', attrs=['bold'] )\n",
    "        error = colored('Error', 'red', attrs=['blink'])\n",
    "        silly = colored('You trying to break me?', 'blue')\n",
    "        cust_eror = f\"{error} A has shape {a_shape} | B has shape {b_shape}\\n{silly}\"\n",
    "        print(cust_eror)\n",
    "        raise Dimension_Error(cust_eror)\n",
    "    \n",
    "    # Subtract and print results\n",
    "    c = a - b \n",
    "    print(f'C = {c}')\n",
    "    print('Done :)\\n\\n')\n",
    "    return c\n",
    "          \n",
    "\n",
    "def multiply_two_matrices(a, b):\n",
    "    \"\"\"\n",
    "        Use to multiply two matrices that share the same outer and inner dim together.\n",
    "        Returns C, the product of the two matrices \n",
    "\n",
    "        a,b : Matrices/Tensors to be multiplied together\n",
    "    \"\"\"\n",
    "    \n",
    "    # Output for User's Sanity \n",
    "    print(f'Matrix Multiplication\\n{\"=\" * 30}')\n",
    "    print(f'A = {a}\\n')\n",
    "    print(f'B = {b}\\n')\n",
    "    print('A x B = C')\n",
    "    print(f'A\\'s size = {a.shape}')      \n",
    "    print(f'B\\'s size = {b.shape}')      \n",
    "    print()\n",
    "\n",
    "    # Check dimensions and raise a user friendly error, if nessecary\n",
    "    if a.shape[-1] != b.shape[0]:\n",
    "        a_shape = colored(a.shape[1], 'red', attrs=['bold', 'underline'] )\n",
    "        b_shape = colored(b.shape[0], 'red', attrs=['bold', 'underline'] )\n",
    "        error = colored('Error:', 'red', attrs=['blink'])\n",
    "        silly = colored('You trying to break me?', 'blue')\n",
    "        cust_eror = f\"{error} (m x {a_shape}) * ({b_shape} x n).. Not compatible\\n{silly}\"\n",
    "        print(cust_eror)\n",
    "        raise Dimension_Error(cust_eror)\n",
    "    \n",
    "    # Dot product and print results\n",
    "    c = np.dot(a, b) \n",
    "    print(f'C = {c}')\n",
    "    print(f'C has shape {c.shape[0]} x {c.shape[1]}')\n",
    "    print('Done :)\\n\\n')\n",
    "    return c"
   ]
  },
  {
   "cell_type": "markdown",
   "metadata": {},
   "source": [
    "# $$\\Large Addition\\ of\\ Matrices/Tensors\\\\ $$\n",
    "\n",
    "$$ \\Large A_{m \\times n} + B_{m \\times n}  =\\\\ \n",
    "\\large \\begin{matrix}\n",
    " a_{11} & a_{12}    & \\ldots &  a_{1n}\\\\\n",
    " a_{21}  &   a_{22} & \\ldots &  a_{2n}\\\\\n",
    "\\vdots & \\vdots & \\ddots & \\vdots\\\\\n",
    " a_{m1}  &    a_{m2}       &\\ldots &  a_{mn}\n",
    "\\end{matrix} + \\begin{matrix}\n",
    " b_{11} & b_{12}    & \\ldots &  b_{1n}\\\\\n",
    " b_{21}  &   b_{22} & \\ldots &  b_{2n}\\\\\n",
    "\\vdots & \\vdots & \\ddots & \\vdots\\\\\n",
    " b_{m1}  &    b_{m2}       &\\ldots &  b_{mn}\n",
    "\\end{matrix} = \n",
    "\\begin{matrix}\n",
    " c_{11} & c_{12}    & \\ldots &  c_{1n}\\\\\n",
    " c_{21}  &   c_{22} & \\ldots &  c_{2n}\\\\\n",
    "\\vdots & \\vdots & \\ddots & \\vdots\\\\\n",
    " c_{m1}  &    c_{m2}       &\\ldots &  c_{mn} \\end{matrix}  \\\\\n",
    "$$\n",
    "\n",
    "$$\n",
    "    \\Large Where\\ A\\ and \\ B\\ are\\ both\\ m \\times n \\ matrices\n",
    "$$"
   ]
  },
  {
   "cell_type": "code",
   "execution_count": 2,
   "metadata": {},
   "outputs": [
    {
     "name": "stdout",
     "output_type": "stream",
     "text": [
      "Matrix Addition\n",
      "==============================\n",
      "A = [[16 18  8]\n",
      " [12 16 19]]\n",
      "\n",
      "B = [[17  8 14]\n",
      " [ 2  9 13]]\n",
      "\n",
      "A + B = C\n",
      "A's size = (2, 3)\n",
      "B's size = (2, 3)\n",
      "\n",
      "C = [[33 26 22]\n",
      " [14 25 32]]\n",
      "Done :)\n",
      "\n",
      "\n"
     ]
    }
   ],
   "source": [
    "# Two matrices with matching dimensions\n",
    "a = np.random.randint(0, 20, (2,3))\n",
    "b = np.random.randint(0, 20, (2,3))\n",
    "c = add_two_matrices(a, b)"
   ]
  },
  {
   "cell_type": "markdown",
   "metadata": {},
   "source": [
    "## Two Matrices with mismatch dimensions... an invalid operation"
   ]
  },
  {
   "cell_type": "code",
   "execution_count": 3,
   "metadata": {},
   "outputs": [
    {
     "name": "stdout",
     "output_type": "stream",
     "text": [
      "Matrix Addition\n",
      "==============================\n",
      "A = [[ 2  2  1]\n",
      " [ 7 19  3]]\n",
      "\n",
      "B = [[11 13]\n",
      " [18  0]\n",
      " [16  1]\n",
      " [19  1]\n",
      " [11 19]]\n",
      "\n",
      "A + B = C\n",
      "A's size = (2, 3)\n",
      "B's size = (5, 2)\n",
      "\n",
      "\u001b[5m\u001b[31mError\u001b[0m A has shape \u001b[1m\u001b[47m\u001b[31m(2, 3)\u001b[0m | B has shape \u001b[1m\u001b[47m\u001b[31m(5, 2)\u001b[0m\n",
      "\u001b[34mYou trying to break me?\u001b[0m\n"
     ]
    },
    {
     "ename": "Dimension_Error",
     "evalue": "\u001b[5m\u001b[31mError\u001b[0m A has shape \u001b[1m\u001b[47m\u001b[31m(2, 3)\u001b[0m | B has shape \u001b[1m\u001b[47m\u001b[31m(5, 2)\u001b[0m\n\u001b[34mYou trying to break me?\u001b[0m",
     "output_type": "error",
     "traceback": [
      "\u001b[0;31m-------------------------------------------------------------------------\u001b[0m",
      "\u001b[0;31mDimension_Error\u001b[0m                         Traceback (most recent call last)",
      "\u001b[0;32m<ipython-input-3-7f827a691c3b>\u001b[0m in \u001b[0;36m<module>\u001b[0;34m\u001b[0m\n\u001b[1;32m      2\u001b[0m \u001b[0mc\u001b[0m \u001b[0;34m=\u001b[0m \u001b[0mnp\u001b[0m\u001b[0;34m.\u001b[0m\u001b[0mrandom\u001b[0m\u001b[0;34m.\u001b[0m\u001b[0mrandint\u001b[0m\u001b[0;34m(\u001b[0m\u001b[0;36m0\u001b[0m\u001b[0;34m,\u001b[0m \u001b[0;36m20\u001b[0m\u001b[0;34m,\u001b[0m \u001b[0;34m(\u001b[0m\u001b[0;36m2\u001b[0m\u001b[0;34m,\u001b[0m\u001b[0;36m3\u001b[0m\u001b[0;34m)\u001b[0m\u001b[0;34m)\u001b[0m\u001b[0;34m\u001b[0m\u001b[0m\n\u001b[1;32m      3\u001b[0m \u001b[0md\u001b[0m \u001b[0;34m=\u001b[0m \u001b[0mnp\u001b[0m\u001b[0;34m.\u001b[0m\u001b[0mrandom\u001b[0m\u001b[0;34m.\u001b[0m\u001b[0mrandint\u001b[0m\u001b[0;34m(\u001b[0m\u001b[0;36m0\u001b[0m\u001b[0;34m,\u001b[0m \u001b[0;36m20\u001b[0m\u001b[0;34m,\u001b[0m \u001b[0;34m(\u001b[0m\u001b[0;36m5\u001b[0m\u001b[0;34m,\u001b[0m\u001b[0;36m2\u001b[0m\u001b[0;34m)\u001b[0m\u001b[0;34m)\u001b[0m\u001b[0;34m\u001b[0m\u001b[0m\n\u001b[0;32m----> 4\u001b[0;31m \u001b[0madd_two_matrices\u001b[0m\u001b[0;34m(\u001b[0m\u001b[0mc\u001b[0m\u001b[0;34m,\u001b[0m \u001b[0md\u001b[0m\u001b[0;34m)\u001b[0m\u001b[0;34m\u001b[0m\u001b[0m\n\u001b[0m",
      "\u001b[0;32m<ipython-input-1-c3185f410ec7>\u001b[0m in \u001b[0;36madd_two_matrices\u001b[0;34m(a, b)\u001b[0m\n\u001b[1;32m     31\u001b[0m         \u001b[0mcust_eror\u001b[0m \u001b[0;34m=\u001b[0m \u001b[0;34mf\"{error} A has shape {a_shape} | B has shape {b_shape}\\n{silly}\"\u001b[0m\u001b[0;34m\u001b[0m\u001b[0m\n\u001b[1;32m     32\u001b[0m         \u001b[0mprint\u001b[0m\u001b[0;34m(\u001b[0m\u001b[0mcust_eror\u001b[0m\u001b[0;34m)\u001b[0m\u001b[0;34m\u001b[0m\u001b[0m\n\u001b[0;32m---> 33\u001b[0;31m         \u001b[0;32mraise\u001b[0m \u001b[0mDimension_Error\u001b[0m\u001b[0;34m(\u001b[0m\u001b[0mcust_eror\u001b[0m\u001b[0;34m)\u001b[0m\u001b[0;34m\u001b[0m\u001b[0m\n\u001b[0m\u001b[1;32m     34\u001b[0m \u001b[0;34m\u001b[0m\u001b[0m\n\u001b[1;32m     35\u001b[0m     \u001b[0;31m# Add and print results\u001b[0m\u001b[0;34m\u001b[0m\u001b[0;34m\u001b[0m\u001b[0m\n",
      "\u001b[0;31mDimension_Error\u001b[0m: \u001b[5m\u001b[31mError\u001b[0m A has shape \u001b[1m\u001b[47m\u001b[31m(2, 3)\u001b[0m | B has shape \u001b[1m\u001b[47m\u001b[31m(5, 2)\u001b[0m\n\u001b[34mYou trying to break me?\u001b[0m"
     ]
    }
   ],
   "source": [
    "# Two matrices with mismatch dimension\n",
    "c = np.random.randint(0, 20, (2,3))\n",
    "d = np.random.randint(0, 20, (5,2))\n",
    "add_two_matrices(c, d)"
   ]
  },
  {
   "cell_type": "markdown",
   "metadata": {},
   "source": [
    "# $$\\Large Subtraction\\ of\\ Matrices/Tensors\\\\ $$\n",
    "\n",
    "$$ \\Large A_{m \\times n} - B_{m \\times n}  =\\\\ \n",
    "\\large \\begin{matrix}\n",
    " a_{11} & a_{12}    & \\ldots &  a_{1n}\\\\\n",
    " a_{21}  &   a_{22} & \\ldots &  a_{2n}\\\\\n",
    "\\vdots & \\vdots & \\ddots & \\vdots\\\\\n",
    " a_{m1}  &    a_{m2}       &\\ldots &  a_{mn}\n",
    "\\end{matrix} - \\begin{matrix}\n",
    " b_{11} & b_{12}    & \\ldots &  b_{1n}\\\\\n",
    " b_{21}  &   b_{22} & \\ldots &  b_{2n}\\\\\n",
    "\\vdots & \\vdots & \\ddots & \\vdots\\\\\n",
    " b_{m1}  &    b_{m2}       &\\ldots &  b_{mn}\n",
    "\\end{matrix} = \n",
    "\\begin{matrix}\n",
    " c_{11} & c_{12}    & \\ldots &  c_{1n}\\\\\n",
    " c_{21}  &   c_{22} & \\ldots &  c_{2n}\\\\\n",
    "\\vdots & \\vdots & \\ddots & \\vdots\\\\\n",
    " c_{m1}  &    c_{m2}       &\\ldots &  c_{mn} \\end{matrix}  \\\\\n",
    "$$\n",
    "\n",
    "$$\n",
    "    \\Large Where\\ A\\ and \\ B\\ are\\ both\\ m \\times n \\ matrices\n",
    "$$"
   ]
  },
  {
   "cell_type": "code",
   "execution_count": 4,
   "metadata": {},
   "outputs": [
    {
     "name": "stdout",
     "output_type": "stream",
     "text": [
      "Matrix Subtraction\n",
      "==============================\n",
      "A = [[ 8 15  3]\n",
      " [ 7 12 18]]\n",
      "\n",
      "B = [[ 6  8 12]\n",
      " [ 5  7 19]]\n",
      "\n",
      "A + B = C\n",
      "A's size = (2, 3)\n",
      "B's size = (2, 3)\n",
      "\n",
      "C = [[ 2  7 -9]\n",
      " [ 2  5 -1]]\n",
      "Done :)\n",
      "\n",
      "\n"
     ]
    }
   ],
   "source": [
    "# Two matrices with matching dimensions\n",
    "a = np.random.randint(0, 20, (2,3))\n",
    "b = np.random.randint(0, 20, (2,3))\n",
    "c = subtract_two_matrices(a, b)"
   ]
  },
  {
   "cell_type": "markdown",
   "metadata": {},
   "source": [
    "## Two Matrices with mismatch dimensions... an invalid operation"
   ]
  },
  {
   "cell_type": "code",
   "execution_count": 5,
   "metadata": {},
   "outputs": [
    {
     "name": "stdout",
     "output_type": "stream",
     "text": [
      "Matrix Subtraction\n",
      "==============================\n",
      "A = [[ 0 17  4]\n",
      " [ 5 12  2]]\n",
      "\n",
      "B = [[ 0 16]\n",
      " [19 17]\n",
      " [ 4 10]\n",
      " [11 12]\n",
      " [15 13]\n",
      " [ 8  7]\n",
      " [ 6 11]\n",
      " [ 5 10]]\n",
      "\n",
      "A + B = C\n",
      "A's size = (2, 3)\n",
      "B's size = (8, 2)\n",
      "\n",
      "\u001b[5m\u001b[31mError\u001b[0m A has shape \u001b[1m\u001b[47m\u001b[31m(2, 3)\u001b[0m | B has shape \u001b[1m\u001b[47m\u001b[31m(8, 2)\u001b[0m\n",
      "\u001b[34mYou trying to break me?\u001b[0m\n"
     ]
    },
    {
     "ename": "Dimension_Error",
     "evalue": "\u001b[5m\u001b[31mError\u001b[0m A has shape \u001b[1m\u001b[47m\u001b[31m(2, 3)\u001b[0m | B has shape \u001b[1m\u001b[47m\u001b[31m(8, 2)\u001b[0m\n\u001b[34mYou trying to break me?\u001b[0m",
     "output_type": "error",
     "traceback": [
      "\u001b[0;31m-------------------------------------------------------------------------\u001b[0m",
      "\u001b[0;31mDimension_Error\u001b[0m                         Traceback (most recent call last)",
      "\u001b[0;32m<ipython-input-5-ccfe3e531dad>\u001b[0m in \u001b[0;36m<module>\u001b[0;34m\u001b[0m\n\u001b[1;32m      2\u001b[0m \u001b[0ma\u001b[0m \u001b[0;34m=\u001b[0m \u001b[0mnp\u001b[0m\u001b[0;34m.\u001b[0m\u001b[0mrandom\u001b[0m\u001b[0;34m.\u001b[0m\u001b[0mrandint\u001b[0m\u001b[0;34m(\u001b[0m\u001b[0;36m0\u001b[0m\u001b[0;34m,\u001b[0m \u001b[0;36m20\u001b[0m\u001b[0;34m,\u001b[0m \u001b[0;34m(\u001b[0m\u001b[0;36m2\u001b[0m\u001b[0;34m,\u001b[0m\u001b[0;36m3\u001b[0m\u001b[0;34m)\u001b[0m\u001b[0;34m)\u001b[0m\u001b[0;34m\u001b[0m\u001b[0m\n\u001b[1;32m      3\u001b[0m \u001b[0mb\u001b[0m \u001b[0;34m=\u001b[0m \u001b[0mnp\u001b[0m\u001b[0;34m.\u001b[0m\u001b[0mrandom\u001b[0m\u001b[0;34m.\u001b[0m\u001b[0mrandint\u001b[0m\u001b[0;34m(\u001b[0m\u001b[0;36m0\u001b[0m\u001b[0;34m,\u001b[0m \u001b[0;36m20\u001b[0m\u001b[0;34m,\u001b[0m \u001b[0;34m(\u001b[0m\u001b[0;36m8\u001b[0m\u001b[0;34m,\u001b[0m\u001b[0;36m2\u001b[0m\u001b[0;34m)\u001b[0m\u001b[0;34m)\u001b[0m\u001b[0;34m\u001b[0m\u001b[0m\n\u001b[0;32m----> 4\u001b[0;31m \u001b[0mc\u001b[0m \u001b[0;34m=\u001b[0m \u001b[0msubtract_two_matrices\u001b[0m\u001b[0;34m(\u001b[0m\u001b[0ma\u001b[0m\u001b[0;34m,\u001b[0m \u001b[0mb\u001b[0m\u001b[0;34m)\u001b[0m\u001b[0;34m\u001b[0m\u001b[0m\n\u001b[0m",
      "\u001b[0;32m<ipython-input-1-c3185f410ec7>\u001b[0m in \u001b[0;36msubtract_two_matrices\u001b[0;34m(a, b)\u001b[0m\n\u001b[1;32m     64\u001b[0m         \u001b[0mcust_eror\u001b[0m \u001b[0;34m=\u001b[0m \u001b[0;34mf\"{error} A has shape {a_shape} | B has shape {b_shape}\\n{silly}\"\u001b[0m\u001b[0;34m\u001b[0m\u001b[0m\n\u001b[1;32m     65\u001b[0m         \u001b[0mprint\u001b[0m\u001b[0;34m(\u001b[0m\u001b[0mcust_eror\u001b[0m\u001b[0;34m)\u001b[0m\u001b[0;34m\u001b[0m\u001b[0m\n\u001b[0;32m---> 66\u001b[0;31m         \u001b[0;32mraise\u001b[0m \u001b[0mDimension_Error\u001b[0m\u001b[0;34m(\u001b[0m\u001b[0mcust_eror\u001b[0m\u001b[0;34m)\u001b[0m\u001b[0;34m\u001b[0m\u001b[0m\n\u001b[0m\u001b[1;32m     67\u001b[0m \u001b[0;34m\u001b[0m\u001b[0m\n\u001b[1;32m     68\u001b[0m     \u001b[0;31m# Subtract and print results\u001b[0m\u001b[0;34m\u001b[0m\u001b[0;34m\u001b[0m\u001b[0m\n",
      "\u001b[0;31mDimension_Error\u001b[0m: \u001b[5m\u001b[31mError\u001b[0m A has shape \u001b[1m\u001b[47m\u001b[31m(2, 3)\u001b[0m | B has shape \u001b[1m\u001b[47m\u001b[31m(8, 2)\u001b[0m\n\u001b[34mYou trying to break me?\u001b[0m"
     ]
    }
   ],
   "source": [
    "# Two matrices with mismatch dimensions\n",
    "a = np.random.randint(0, 20, (2,3))\n",
    "b = np.random.randint(0, 20, (8,2))\n",
    "c = subtract_two_matrices(a, b)"
   ]
  },
  {
   "cell_type": "markdown",
   "metadata": {},
   "source": [
    "# $$\\Large Multiplication\\ of\\ Matrices/Tensors\\\\ $$\n",
    "\n",
    "$$ \\Large A_{m \\times r} \\cdot B_{r \\times n}  = \\\\\n",
    "\\large \\begin{matrix}\n",
    " a_{11} & a_{12}    & \\ldots &  a_{1r}\\\\\n",
    " a_{21}  &   a_{22} & \\ldots &  a_{2r}\\\\\n",
    "\\vdots & \\vdots & \\ddots & \\vdots\\\\\n",
    " a_{m1}  &    a_{m2}       &\\ldots &  a_{mr}\n",
    "\\end{matrix} \\ * \\ \\begin{matrix}\n",
    " b_{11} & b_{12}    & \\ldots &  b_{1n}\\\\\n",
    " b_{21}  &   b_{22} & \\ldots &  b_{2n}\\\\\n",
    "\\vdots & \\vdots & \\ddots & \\vdots\\\\\n",
    " b_{r1}  &    b_{r2}       &\\ldots &  b_{rn}\n",
    "\\end{matrix} = \n",
    "\\begin{matrix}\n",
    " c_{11} & c_{12}    & \\ldots &  c_{1r}\\\\\n",
    " c_{21}  &   c_{22} & \\ldots &  c_{2r}\\\\\n",
    "\\vdots & \\vdots & \\ddots & \\vdots\\\\\n",
    " c_{r1}  &    c_{r2}       &\\ldots &  c_{rr}\n",
    "\\end{matrix} \\\\\n",
    "$$\n",
    "\n",
    "$$\n",
    "    \\Large Where\\ A_r\\ = \\ B_r\\ and\\ C\\ is\\ r\\times r \\ matrix\n",
    "$$"
   ]
  },
  {
   "cell_type": "code",
   "execution_count": 6,
   "metadata": {},
   "outputs": [
    {
     "name": "stdout",
     "output_type": "stream",
     "text": [
      "Matrix Multiplication\n",
      "==============================\n",
      "A = [[ 6 19 10]\n",
      " [13 12 14]\n",
      " [ 0  5  3]\n",
      " [18 17 15]\n",
      " [13  7  5]\n",
      " [ 2 13 19]\n",
      " [12  1 18]]\n",
      "\n",
      "B = [[ 2  2  0  4 18  4 12  8  6 13 12 12 11  5 13 15 16 18  3  0]\n",
      " [14  4 19  8 10 18  7 12  4 19  2 11 11 12 18 16  4 16  0  8]\n",
      " [19 19  8 16  9 16 13  1  9  2  1  6 14  4  3 14 12 17 14 10]]\n",
      "\n",
      "A x B = C\n",
      "A's size = (7, 3)\n",
      "B's size = (3, 20)\n",
      "\n",
      "C = [[468 278 441 336 388 526 335 286 202 459 120 341 415 298 450 534 292 582\n",
      "  158 252]\n",
      " [460 340 340 372 480 492 422 262 252 425 194 372 471 265 427 583 424 664\n",
      "  235 236]\n",
      " [127  77 119  88  77 138  74  63  47 101  13  73  97  72  99 122  56 131\n",
      "   42  70]\n",
      " [559 389 443 448 629 618 530 363 311 587 265 493 595 354 585 752 536 851\n",
      "  264 286]\n",
      " [219 149 173 188 349 258 270 193 151 312 175 263 290 169 310 377 296 431\n",
      "  109 106]\n",
      " [547 417 399 416 337 546 362 191 235 311  69 281 431 242 317 504 312 567\n",
      "  272 294]\n",
      " [380 370 163 344 388 354 385 126 238 211 164 263 395 144 228 448 412 538\n",
      "  288 188]]\n",
      "C has shape 7 x 20\n",
      "Done :)\n",
      "\n",
      "\n"
     ]
    }
   ],
   "source": [
    "# Two matrices with proper dimensions\n",
    "a = np.random.randint(0, 20, (7,3))\n",
    "b = np.random.randint(0, 20, (3,20))\n",
    "c = multiply_two_matrices(a, b)"
   ]
  },
  {
   "cell_type": "markdown",
   "metadata": {},
   "source": [
    "## Two Matrices with mismatch dimensions... an invalid operation"
   ]
  },
  {
   "cell_type": "code",
   "execution_count": 7,
   "metadata": {},
   "outputs": [
    {
     "name": "stdout",
     "output_type": "stream",
     "text": [
      "Matrix Multiplication\n",
      "==============================\n",
      "A = [[ 8  4 11  2 19 10 14]\n",
      " [ 4 17  7  1  3  5  7]\n",
      " [ 9  7 14  0  4 14 16]\n",
      " [ 8  7  3 10  2  7  5]\n",
      " [ 7  4  0 19 17 11  1]\n",
      " [ 4  8  8  6  4  5 16]\n",
      " [12  7 15 19  5 16  1]]\n",
      "\n",
      "B = [[13  2  4  3 12  4 13 19 16 14  5 19 16 19 16 17 12  2 16  7]\n",
      " [10  3 15 16 19  6 13 18 10 15  0  2 14 15  3 19 11  2 19 15]\n",
      " [ 8 12  3  4  7 19 16 18 14 18 16  4 16 12 11 11 19  0 10  1]]\n",
      "\n",
      "A x B = C\n",
      "A's size = (7, 7)\n",
      "B's size = (3, 20)\n",
      "\n",
      "\u001b[5m\u001b[31mError:\u001b[0m (m x \u001b[4m\u001b[1m\u001b[31m7\u001b[0m) * (\u001b[4m\u001b[1m\u001b[31m3\u001b[0m x n).. Not compatible\n",
      "\u001b[34mYou trying to break me?\u001b[0m\n"
     ]
    },
    {
     "ename": "Dimension_Error",
     "evalue": "\u001b[5m\u001b[31mError:\u001b[0m (m x \u001b[4m\u001b[1m\u001b[31m7\u001b[0m) * (\u001b[4m\u001b[1m\u001b[31m3\u001b[0m x n).. Not compatible\n\u001b[34mYou trying to break me?\u001b[0m",
     "output_type": "error",
     "traceback": [
      "\u001b[0;31m-------------------------------------------------------------------------\u001b[0m",
      "\u001b[0;31mDimension_Error\u001b[0m                         Traceback (most recent call last)",
      "\u001b[0;32m<ipython-input-7-62dba9b58d71>\u001b[0m in \u001b[0;36m<module>\u001b[0;34m\u001b[0m\n\u001b[1;32m      2\u001b[0m \u001b[0ma\u001b[0m \u001b[0;34m=\u001b[0m \u001b[0mnp\u001b[0m\u001b[0;34m.\u001b[0m\u001b[0mrandom\u001b[0m\u001b[0;34m.\u001b[0m\u001b[0mrandint\u001b[0m\u001b[0;34m(\u001b[0m\u001b[0;36m0\u001b[0m\u001b[0;34m,\u001b[0m \u001b[0;36m20\u001b[0m\u001b[0;34m,\u001b[0m \u001b[0;34m(\u001b[0m\u001b[0;36m7\u001b[0m\u001b[0;34m,\u001b[0m\u001b[0;36m7\u001b[0m\u001b[0;34m)\u001b[0m\u001b[0;34m)\u001b[0m\u001b[0;34m\u001b[0m\u001b[0m\n\u001b[1;32m      3\u001b[0m \u001b[0mb\u001b[0m \u001b[0;34m=\u001b[0m \u001b[0mnp\u001b[0m\u001b[0;34m.\u001b[0m\u001b[0mrandom\u001b[0m\u001b[0;34m.\u001b[0m\u001b[0mrandint\u001b[0m\u001b[0;34m(\u001b[0m\u001b[0;36m0\u001b[0m\u001b[0;34m,\u001b[0m \u001b[0;36m20\u001b[0m\u001b[0;34m,\u001b[0m \u001b[0;34m(\u001b[0m\u001b[0;36m3\u001b[0m\u001b[0;34m,\u001b[0m\u001b[0;36m20\u001b[0m\u001b[0;34m)\u001b[0m\u001b[0;34m)\u001b[0m\u001b[0;34m\u001b[0m\u001b[0m\n\u001b[0;32m----> 4\u001b[0;31m \u001b[0mc\u001b[0m \u001b[0;34m=\u001b[0m \u001b[0mmultiply_two_matrices\u001b[0m\u001b[0;34m(\u001b[0m\u001b[0ma\u001b[0m\u001b[0;34m,\u001b[0m \u001b[0mb\u001b[0m\u001b[0;34m)\u001b[0m\u001b[0;34m\u001b[0m\u001b[0m\n\u001b[0m",
      "\u001b[0;32m<ipython-input-1-c3185f410ec7>\u001b[0m in \u001b[0;36mmultiply_two_matrices\u001b[0;34m(a, b)\u001b[0m\n\u001b[1;32m     98\u001b[0m         \u001b[0mcust_eror\u001b[0m \u001b[0;34m=\u001b[0m \u001b[0;34mf\"{error} (m x {a_shape}) * ({b_shape} x n).. Not compatible\\n{silly}\"\u001b[0m\u001b[0;34m\u001b[0m\u001b[0m\n\u001b[1;32m     99\u001b[0m         \u001b[0mprint\u001b[0m\u001b[0;34m(\u001b[0m\u001b[0mcust_eror\u001b[0m\u001b[0;34m)\u001b[0m\u001b[0;34m\u001b[0m\u001b[0m\n\u001b[0;32m--> 100\u001b[0;31m         \u001b[0;32mraise\u001b[0m \u001b[0mDimension_Error\u001b[0m\u001b[0;34m(\u001b[0m\u001b[0mcust_eror\u001b[0m\u001b[0;34m)\u001b[0m\u001b[0;34m\u001b[0m\u001b[0m\n\u001b[0m\u001b[1;32m    101\u001b[0m \u001b[0;34m\u001b[0m\u001b[0m\n\u001b[1;32m    102\u001b[0m     \u001b[0;31m# Dot product and print results\u001b[0m\u001b[0;34m\u001b[0m\u001b[0;34m\u001b[0m\u001b[0m\n",
      "\u001b[0;31mDimension_Error\u001b[0m: \u001b[5m\u001b[31mError:\u001b[0m (m x \u001b[4m\u001b[1m\u001b[31m7\u001b[0m) * (\u001b[4m\u001b[1m\u001b[31m3\u001b[0m x n).. Not compatible\n\u001b[34mYou trying to break me?\u001b[0m"
     ]
    }
   ],
   "source": [
    "# Two matrices with improper dimensions\n",
    "a = np.random.randint(0, 20, (7,7))\n",
    "b = np.random.randint(0, 20, (3,20))\n",
    "c = multiply_two_matrices(a, b)"
   ]
  },
  {
   "cell_type": "markdown",
   "metadata": {},
   "source": [
    "# $$\\large Scalar\\ Multiple \\ of\\ a \\ Matrix/Tensor \\\\\n",
    "5A = \\begin{matrix}\n",
    "5a_{11} & 5a_{12}    & \\ldots & 5a_{1n}\\\\\n",
    "5a_{21}  &  5a_{22} & \\ldots & 5a_{2n}\\\\\n",
    "\\vdots & \\vdots & \\ddots & \\vdots\\\\\n",
    "5a_{m1}  &   5a_{m2}       &\\ldots & 5a_{mn}\n",
    "\\end{matrix} \\\\ $$\n"
   ]
  },
  {
   "cell_type": "code",
   "execution_count": 8,
   "metadata": {},
   "outputs": [
    {
     "name": "stdout",
     "output_type": "stream",
     "text": [
      "Matrix a before scaled\n",
      "================================================\n",
      "[[4 6 5 2 6 1]\n",
      " [0 1 1 4 9 7]]\n",
      "\n",
      "Matrix a Scaled by 5\n",
      "================================================\n",
      "[[20 30 25 10 30  5]\n",
      " [ 0  5  5 20 45 35]]\n"
     ]
    }
   ],
   "source": [
    "a = np.random.randint(0,10, (2,6))\n",
    "print(f'Matrix a before scaled\\n{\"=\"*48}\\n{a}\\n')\n",
    "print(f'Matrix a Scaled by 5\\n{\"=\"*48}\\n{5 * a}')"
   ]
  },
  {
   "cell_type": "markdown",
   "metadata": {},
   "source": [
    "# $$ \\Large Transpose\\ of\\ a\\ Matrix $$\n",
    "$$ \\Large Simply\\ put\\ A^\\mathsf{T}_{ij} = A_{ji}   $$\n",
    "\n",
    "<center> <img src=\"https://upload.wikimedia.org/wikipedia/commons/thumb/e/e4/Matrix_transpose.gif/200px-Matrix_transpose.gif\">"
   ]
  },
  {
   "cell_type": "code",
   "execution_count": 9,
   "metadata": {},
   "outputs": [
    {
     "name": "stdout",
     "output_type": "stream",
     "text": [
      "Before transpose: \n",
      "================================================\n",
      " [[[ 8  4]\n",
      "  [ 9  3]]\n",
      "\n",
      " [[ 0  4]\n",
      "  [ 0 12]]\n",
      "\n",
      " [[17  1]\n",
      "  [ 7 15]]]\n",
      "\n",
      "After transpose: \n",
      "================================================\n",
      " [[[ 8  0 17]\n",
      "  [ 9  0  7]]\n",
      "\n",
      " [[ 4  4  1]\n",
      "  [ 3 12 15]]]\n"
     ]
    }
   ],
   "source": [
    "a = np.random.randint(0, 20, (3,2, 2))\n",
    "print(f'Before transpose: \\n{\"=\" * 48}\\n {a}')\n",
    "a = np.transpose(a);\n",
    "print()\n",
    "print(f'After transpose: \\n{\"=\" * 48}\\n {a}')"
   ]
  },
  {
   "cell_type": "markdown",
   "metadata": {},
   "source": [
    "# Gauss-Jordan method"
   ]
  },
  {
   "cell_type": "code",
   "execution_count": 10,
   "metadata": {},
   "outputs": [
    {
     "name": "stdout",
     "output_type": "stream",
     "text": [
      "Linear combo:\n",
      " [[1. 0. 0. 0. 0.]\n",
      " [0. 1. 0. 0. 0.]\n",
      " [0. 0. 1. 0. 0.]\n",
      " [0. 0. 0. 1. 0.]\n",
      " [0. 0. 0. 0. 1.]] *x =  [0.13481298 0.89452518 0.77710907 0.13788967 0.3715554 ]\n",
      "\n",
      "Where x = [[0.13481298]\n",
      " [0.89452518]\n",
      " [0.77710907]\n",
      " [0.13788967]\n",
      " [0.3715554 ]]\n",
      "\n",
      "Linear combo:\n",
      " [[ 0.     0.     1.     0.   ]\n",
      " [ 2.     4.     1.     2.   ]\n",
      " [ 9.     3.     1.     0.8  ]\n",
      " [22.     0.128  4.     9.   ]] *x =  [ 0  2 30  8]\n",
      "\n",
      "Where x = [[ 3.15909643]\n",
      " [ 2.35386378]\n",
      " [-0.        ]\n",
      " [-6.866824  ]]\n",
      "\n"
     ]
    }
   ],
   "source": [
    "from numpy.linalg import solve\n",
    "\n",
    "linCombo = np.eye(5)\n",
    "answer = np.random.rand(5)\n",
    "\n",
    "print(f'Linear combo:\\n {linCombo} *x =  {answer}')\n",
    "solution = solve(linCombo, np.transpose(answer))\n",
    "print(f'\\nWhere x = {solution.reshape(-1,1) }')\n",
    "print()\n",
    "\n",
    "\n",
    "linCombo = np.array([[0,0,1,0], [2,4,1,2], [9,3,1,.8], [22, .128, 4, 9]])\n",
    "answer = np.array([0, 2, 30, 8])\n",
    "\n",
    "print(f'Linear combo:\\n {linCombo} *x =  {answer}')\n",
    "solution = solve(linCombo, np.transpose(answer))\n",
    "print(f'\\nWhere x = {solution.reshape(-1,1) }')\n",
    "print()"
   ]
  },
  {
   "cell_type": "markdown",
   "metadata": {},
   "source": [
    "# Inverse of a Matrix"
   ]
  },
  {
   "cell_type": "code",
   "execution_count": 11,
   "metadata": {},
   "outputs": [
    {
     "name": "stdout",
     "output_type": "stream",
     "text": [
      "Before Inverse Operation: \n",
      "================================================\n",
      " [[19 11 15  3]\n",
      " [21  2 11  1]]\n",
      "\n",
      "After Inverse Operation: \n",
      "================================================\n",
      " [[-20 -12 -16  -4]\n",
      " [-22  -3 -12  -2]]\n"
     ]
    }
   ],
   "source": [
    "a = np.random.randint(0, 22,(2, 4))\n",
    "print(f'Before Inverse Operation: \\n{\"=\" * 48}\\n {a}')\n",
    "a = np.invert(a)\n",
    "print()\n",
    "print(f'After Inverse Operation: \\n{\"=\" * 48}\\n {a}')"
   ]
  },
  {
   "cell_type": "markdown",
   "metadata": {},
   "source": [
    "# Rank of a Matrix/Tensor"
   ]
  },
  {
   "cell_type": "code",
   "execution_count": 12,
   "metadata": {},
   "outputs": [
    {
     "name": "stdout",
     "output_type": "stream",
     "text": [
      "[[1. 0. 0. 0.]\n",
      " [0. 1. 0. 0.]\n",
      " [0. 0. 1. 0.]\n",
      " [0. 0. 0. 1.]]\n",
      " Rank: 4\n",
      "\n",
      "[[1. 0. 0. 0.]\n",
      " [0. 1. 0. 0.]\n",
      " [0. 0. 1. 0.]\n",
      " [0. 0. 0. 0.]]\n",
      " Rank: 3\n"
     ]
    }
   ],
   "source": [
    "from numpy.linalg import matrix_rank\n",
    "\n",
    "# A 4x4 identity array\n",
    "i = np.eye(4)\n",
    "print(f'{i}\\n Rank: {matrix_rank(i)}')\n",
    "print()\n",
    "\n",
    "# Same array but with zeros in the last row\n",
    "i[-1][:] = np.zeros((1,i.shape[1]))\n",
    "print(f'{i}\\n Rank: {matrix_rank(i)}')\n"
   ]
  },
  {
   "cell_type": "markdown",
   "metadata": {},
   "source": [
    "# Determinates of Matrices/Tensors"
   ]
  },
  {
   "cell_type": "code",
   "execution_count": 13,
   "metadata": {},
   "outputs": [
    {
     "name": "stdout",
     "output_type": "stream",
     "text": [
      "[[9 9]\n",
      " [7 7]]\n",
      " Determinate: 0.00\n",
      "\n",
      "[[ 9 12  7  0  3]\n",
      " [ 6 13 13  9 12]\n",
      " [12  8  1  2  8]\n",
      " [ 8 12 11  9  1]\n",
      " [ 8  1  2  7 10]]\n",
      " Determinate: \n",
      "-39424.00\n",
      "\n",
      "\n"
     ]
    }
   ],
   "source": [
    "from numpy.linalg import det\n",
    "\n",
    "a = np.random.randint(1, 10, (2, 2))\n",
    "print(f'{a}\\n Determinate: {det(a):.2f}')\n",
    "print()\n",
    "\n",
    "norm = np.random.randint(0,14,(5,5))\n",
    "print(f'{norm}\\n Determinate: \\n{det(norm):.2f}\\n')\n",
    "print()"
   ]
  }
 ],
 "metadata": {
  "kernelspec": {
   "display_name": "Python 3",
   "language": "python",
   "name": "python3"
  },
  "language_info": {
   "codemirror_mode": {
    "name": "ipython",
    "version": 3
   },
   "file_extension": ".py",
   "mimetype": "text/x-python",
   "name": "python",
   "nbconvert_exporter": "python",
   "pygments_lexer": "ipython3",
   "version": "3.6.2"
  }
 },
 "nbformat": 4,
 "nbformat_minor": 2
}
