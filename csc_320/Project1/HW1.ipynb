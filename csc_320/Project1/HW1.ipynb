{
 "cells": [
  {
   "cell_type": "code",
   "execution_count": 1,
   "metadata": {},
   "outputs": [],
   "source": [
    "from termcolor import colored\n",
    "import numpy as np\n",
    "\n",
    "# Custom error to pass message to\n",
    "class Dimension_Error(Exception):\n",
    "    pass\n",
    "\n",
    "def add_two_matrices(a, b):\n",
    "    \"\"\"\n",
    "        Use to add two matrices that share the same dimensions together.\n",
    "        Returns C, the sum of the two matrices \n",
    "\n",
    "        a,b : Matrices/Tensors to be added together\n",
    "    \"\"\"\n",
    "    \n",
    "    # Output for User's Sanity \n",
    "    print(f'Matrix Addition\\n{\"=\" * 30}')\n",
    "    print(f'A = {a}\\n')\n",
    "    print(f'B = {b}\\n')\n",
    "    print('A + B = C')\n",
    "    print(f'A\\'s size = {a.shape}')      \n",
    "    print(f'B\\'s size = {b.shape}')      \n",
    "    print()\n",
    "\n",
    "    # Check dimensions and raise a user friendly error, if nessecary\n",
    "    if a.shape != b.shape:\n",
    "        a_shape = colored(a.shape, 'red', 'on_white', attrs=['bold'] )\n",
    "        b_shape = colored(b.shape, 'red', 'on_white', attrs=['bold'] )\n",
    "        error = colored('Error', 'red', attrs=['blink'])\n",
    "        silly = colored('You trying to break me?', 'blue')\n",
    "        cust_eror = f\"{error} A has shape {a_shape} | B has shape {b_shape}\\n{silly}\"\n",
    "        print(cust_eror)\n",
    "        raise Dimension_Error(cust_eror)\n",
    "    \n",
    "    # Add and print results\n",
    "    c = a + b \n",
    "    print(f'C = {c}')\n",
    "    print('Done :)\\n\\n')\n",
    "    return c\n",
    "          \n",
    "def subtract_two_matrices(a, b):\n",
    "    \"\"\"\n",
    "        Use to add two matrices that share the same dimensions together.\n",
    "        Returns C, the difference of the two matrices \n",
    "\n",
    "        a,b : Matrices/Tensors to be subtracted together\n",
    "    \"\"\"\n",
    "    \n",
    "    # Output for User's Sanity \n",
    "    print(f'Matrix Subtraction\\n{\"=\" * 30}')\n",
    "    print(f'A = {a}\\n')\n",
    "    print(f'B = {b}\\n')\n",
    "    print('A + B = C')\n",
    "    print(f'A\\'s size = {a.shape}')      \n",
    "    print(f'B\\'s size = {b.shape}')      \n",
    "    print()\n",
    "\n",
    "    # Check dimensions and raise a user friendly error, if nessecary\n",
    "    if a.shape != b.shape:\n",
    "        a_shape = colored(a.shape, 'red', 'on_white', attrs=['bold'] )\n",
    "        b_shape = colored(b.shape, 'red', 'on_white', attrs=['bold'] )\n",
    "        error = colored('Error', 'red', attrs=['blink'])\n",
    "        silly = colored('You trying to break me?', 'blue')\n",
    "        cust_eror = f\"{error} A has shape {a_shape} | B has shape {b_shape}\\n{silly}\"\n",
    "        print(cust_eror)\n",
    "        raise Dimension_Error(cust_eror)\n",
    "    \n",
    "    # Subtract and print results\n",
    "    c = a - b \n",
    "    print(f'C = {c}')\n",
    "    print('Done :)\\n\\n')\n",
    "    return c\n",
    "          \n",
    "\n",
    "def multiply_two_matrices(a, b):\n",
    "    \"\"\"\n",
    "        Use to multiply two matrices that share the same outer and inner dim together.\n",
    "        Returns C, the product of the two matrices \n",
    "\n",
    "        a,b : Matrices/Tensors to be multiplied together\n",
    "    \"\"\"\n",
    "    \n",
    "    # Output for User's Sanity \n",
    "    print(f'Matrix Multiplication\\n{\"=\" * 30}')\n",
    "    print(f'A = {a}\\n')\n",
    "    print(f'B = {b}\\n')\n",
    "    print('A x B = C')\n",
    "    print(f'A\\'s size = {a.shape}')      \n",
    "    print(f'B\\'s size = {b.shape}')      \n",
    "    print()\n",
    "\n",
    "    # Check dimensions and raise a user friendly error, if nessecary\n",
    "    if a.shape[-1] != b.shape[0]:\n",
    "        a_shape = colored(a.shape[1], 'red', attrs=['bold', 'underline'] )\n",
    "        b_shape = colored(b.shape[0], 'red', attrs=['bold', 'underline'] )\n",
    "        error = colored('Error:', 'red', attrs=['blink'])\n",
    "        silly = colored('You trying to break me?', 'blue')\n",
    "        cust_eror = f\"{error} (m x {a_shape}) * ({b_shape} x n).. Not compatible\\n{silly}\"\n",
    "        print(cust_eror)\n",
    "        raise Dimension_Error(cust_eror)\n",
    "    \n",
    "    # Dot product and print results\n",
    "    c = np.dot(a, b) \n",
    "    print(f'C = {c}')\n",
    "    print(f'C has shape {c.shape[0]} x {c.shape[1]}')\n",
    "    print('Done :)\\n\\n')\n",
    "    return c"
   ]
  },
  {
   "cell_type": "markdown",
   "metadata": {},
   "source": [
    "# $$\\Large Addition\\ of\\ Matrices/Tensors\\\\ $$\n",
    "\n",
    "$$ \\Large A_{m \\times n} + B_{m \\times n}  =\\\\ \n",
    "\\large \\begin{matrix}\n",
    " a_{11} & a_{12}    & \\ldots &  a_{1n}\\\\\n",
    " a_{21}  &   a_{22} & \\ldots &  a_{2n}\\\\\n",
    "\\vdots & \\vdots & \\ddots & \\vdots\\\\\n",
    " a_{m1}  &    a_{m2}       &\\ldots &  a_{mn}\n",
    "\\end{matrix} + \\begin{matrix}\n",
    " b_{11} & b_{12}    & \\ldots &  b_{1n}\\\\\n",
    " b_{21}  &   b_{22} & \\ldots &  b_{2n}\\\\\n",
    "\\vdots & \\vdots & \\ddots & \\vdots\\\\\n",
    " b_{m1}  &    b_{m2}       &\\ldots &  b_{mn}\n",
    "\\end{matrix} = \n",
    "\\begin{matrix}\n",
    " c_{11} & c_{12}    & \\ldots &  c_{1n}\\\\\n",
    " c_{21}  &   c_{22} & \\ldots &  c_{2n}\\\\\n",
    "\\vdots & \\vdots & \\ddots & \\vdots\\\\\n",
    " c_{m1}  &    c_{m2}       &\\ldots &  c_{mn} \\end{matrix}  \\\\\n",
    "$$\n",
    "\n",
    "$$\n",
    "    \\Large Where\\ A\\ and \\ B\\ are\\ both\\ m \\times n \\ matrices\n",
    "$$"
   ]
  },
  {
   "cell_type": "code",
   "execution_count": 2,
   "metadata": {},
   "outputs": [
    {
     "name": "stdout",
     "output_type": "stream",
     "text": [
      "Matrix Addition\n",
      "==============================\n",
      "A = [[19 12 17]\n",
      " [ 0 14  0]]\n",
      "\n",
      "B = [[15 10 13]\n",
      " [ 9 19 19]]\n",
      "\n",
      "A + B = C\n",
      "A's size = (2, 3)\n",
      "B's size = (2, 3)\n",
      "\n",
      "C = [[34 22 30]\n",
      " [ 9 33 19]]\n",
      "Done :)\n",
      "\n",
      "\n"
     ]
    }
   ],
   "source": [
    "# Two matrices with matching dimensions\n",
    "a = np.random.randint(0, 20, (2,3))\n",
    "b = np.random.randint(0, 20, (2,3))\n",
    "c = add_two_matrices(a, b)"
   ]
  },
  {
   "cell_type": "markdown",
   "metadata": {},
   "source": [
    "## Two Matrices with mismatch dimensions... an invalid operation"
   ]
  },
  {
   "cell_type": "code",
   "execution_count": 3,
   "metadata": {},
   "outputs": [
    {
     "name": "stdout",
     "output_type": "stream",
     "text": [
      "Matrix Addition\n",
      "==============================\n",
      "A = [[ 1 10  0]\n",
      " [ 9  1  7]]\n",
      "\n",
      "B = [[ 1  3]\n",
      " [ 9  1]\n",
      " [16 14]\n",
      " [17 15]\n",
      " [ 3 17]]\n",
      "\n",
      "A + B = C\n",
      "A's size = (2, 3)\n",
      "B's size = (5, 2)\n",
      "\n",
      "\u001b[5m\u001b[31mError\u001b[0m A has shape \u001b[1m\u001b[47m\u001b[31m(2, 3)\u001b[0m | B has shape \u001b[1m\u001b[47m\u001b[31m(5, 2)\u001b[0m\n",
      "\u001b[34mYou trying to break me?\u001b[0m\n"
     ]
    },
    {
     "ename": "Dimension_Error",
     "evalue": "\u001b[5m\u001b[31mError\u001b[0m A has shape \u001b[1m\u001b[47m\u001b[31m(2, 3)\u001b[0m | B has shape \u001b[1m\u001b[47m\u001b[31m(5, 2)\u001b[0m\n\u001b[34mYou trying to break me?\u001b[0m",
     "output_type": "error",
     "traceback": [
      "\u001b[0;31m-------------------------------------------------\u001b[0m",
      "\u001b[0;31mDimension_Error\u001b[0m Traceback (most recent call last)",
      "\u001b[0;32m<ipython-input-3-7f827a691c3b>\u001b[0m in \u001b[0;36m<module>\u001b[0;34m\u001b[0m\n\u001b[1;32m      2\u001b[0m \u001b[0mc\u001b[0m \u001b[0;34m=\u001b[0m \u001b[0mnp\u001b[0m\u001b[0;34m.\u001b[0m\u001b[0mrandom\u001b[0m\u001b[0;34m.\u001b[0m\u001b[0mrandint\u001b[0m\u001b[0;34m(\u001b[0m\u001b[0;36m0\u001b[0m\u001b[0;34m,\u001b[0m \u001b[0;36m20\u001b[0m\u001b[0;34m,\u001b[0m \u001b[0;34m(\u001b[0m\u001b[0;36m2\u001b[0m\u001b[0;34m,\u001b[0m\u001b[0;36m3\u001b[0m\u001b[0;34m)\u001b[0m\u001b[0;34m)\u001b[0m\u001b[0;34m\u001b[0m\u001b[0m\n\u001b[1;32m      3\u001b[0m \u001b[0md\u001b[0m \u001b[0;34m=\u001b[0m \u001b[0mnp\u001b[0m\u001b[0;34m.\u001b[0m\u001b[0mrandom\u001b[0m\u001b[0;34m.\u001b[0m\u001b[0mrandint\u001b[0m\u001b[0;34m(\u001b[0m\u001b[0;36m0\u001b[0m\u001b[0;34m,\u001b[0m \u001b[0;36m20\u001b[0m\u001b[0;34m,\u001b[0m \u001b[0;34m(\u001b[0m\u001b[0;36m5\u001b[0m\u001b[0;34m,\u001b[0m\u001b[0;36m2\u001b[0m\u001b[0;34m)\u001b[0m\u001b[0;34m)\u001b[0m\u001b[0;34m\u001b[0m\u001b[0m\n\u001b[0;32m----> 4\u001b[0;31m \u001b[0madd_two_matrices\u001b[0m\u001b[0;34m(\u001b[0m\u001b[0mc\u001b[0m\u001b[0;34m,\u001b[0m \u001b[0md\u001b[0m\u001b[0;34m)\u001b[0m\u001b[0;34m\u001b[0m\u001b[0m\n\u001b[0m",
      "\u001b[0;32m<ipython-input-1-c3185f410ec7>\u001b[0m in \u001b[0;36madd_two_matrices\u001b[0;34m(a, b)\u001b[0m\n\u001b[1;32m     31\u001b[0m         \u001b[0mcust_eror\u001b[0m \u001b[0;34m=\u001b[0m \u001b[0;34mf\"{error} A has shape {a_shape} | B has shape {b_shape}\\n{silly}\"\u001b[0m\u001b[0;34m\u001b[0m\u001b[0m\n\u001b[1;32m     32\u001b[0m         \u001b[0mprint\u001b[0m\u001b[0;34m(\u001b[0m\u001b[0mcust_eror\u001b[0m\u001b[0;34m)\u001b[0m\u001b[0;34m\u001b[0m\u001b[0m\n\u001b[0;32m---> 33\u001b[0;31m         \u001b[0;32mraise\u001b[0m \u001b[0mDimension_Error\u001b[0m\u001b[0;34m(\u001b[0m\u001b[0mcust_eror\u001b[0m\u001b[0;34m)\u001b[0m\u001b[0;34m\u001b[0m\u001b[0m\n\u001b[0m\u001b[1;32m     34\u001b[0m \u001b[0;34m\u001b[0m\u001b[0m\n\u001b[1;32m     35\u001b[0m     \u001b[0;31m# Add and print results\u001b[0m\u001b[0;34m\u001b[0m\u001b[0;34m\u001b[0m\u001b[0m\n",
      "\u001b[0;31mDimension_Error\u001b[0m: \u001b[5m\u001b[31mError\u001b[0m A has shape \u001b[1m\u001b[47m\u001b[31m(2, 3)\u001b[0m | B has shape \u001b[1m\u001b[47m\u001b[31m(5, 2)\u001b[0m\n\u001b[34mYou trying to break me?\u001b[0m"
     ]
    }
   ],
   "source": [
    "# Two matrices with mismatch dimension\n",
    "c = np.random.randint(0, 20, (2,3))\n",
    "d = np.random.randint(0, 20, (5,2))\n",
    "add_two_matrices(c, d)"
   ]
  },
  {
   "cell_type": "markdown",
   "metadata": {},
   "source": [
    "# $$\\Large Subtraction\\ of\\ Matrices/Tensors\\\\ $$\n",
    "\n",
    "$$ \\Large A_{m \\times n} - B_{m \\times n}  =\\\\ \n",
    "\\large \\begin{matrix}\n",
    " a_{11} & a_{12}    & \\ldots &  a_{1n}\\\\\n",
    " a_{21}  &   a_{22} & \\ldots &  a_{2n}\\\\\n",
    "\\vdots & \\vdots & \\ddots & \\vdots\\\\\n",
    " a_{m1}  &    a_{m2}       &\\ldots &  a_{mn}\n",
    "\\end{matrix} - \\begin{matrix}\n",
    " b_{11} & b_{12}    & \\ldots &  b_{1n}\\\\\n",
    " b_{21}  &   b_{22} & \\ldots &  b_{2n}\\\\\n",
    "\\vdots & \\vdots & \\ddots & \\vdots\\\\\n",
    " b_{m1}  &    b_{m2}       &\\ldots &  b_{mn}\n",
    "\\end{matrix} = \n",
    "\\begin{matrix}\n",
    " c_{11} & c_{12}    & \\ldots &  c_{1n}\\\\\n",
    " c_{21}  &   c_{22} & \\ldots &  c_{2n}\\\\\n",
    "\\vdots & \\vdots & \\ddots & \\vdots\\\\\n",
    " c_{m1}  &    c_{m2}       &\\ldots &  c_{mn} \\end{matrix}  \\\\\n",
    "$$\n",
    "\n",
    "$$\n",
    "    \\Large Where\\ A\\ and \\ B\\ are\\ both\\ m \\times n \\ matrices\n",
    "$$"
   ]
  },
  {
   "cell_type": "code",
   "execution_count": null,
   "metadata": {},
   "outputs": [],
   "source": [
    "# Two matrices with matching dimensions\n",
    "a = np.random.randint(0, 20, (2,3))\n",
    "b = np.random.randint(0, 20, (2,3))\n",
    "c = subtract_two_matrices(a, b)"
   ]
  },
  {
   "cell_type": "markdown",
   "metadata": {},
   "source": [
    "## Two Matrices with mismatch dimensions... an invalid operation"
   ]
  },
  {
   "cell_type": "code",
   "execution_count": null,
   "metadata": {},
   "outputs": [],
   "source": [
    "# Two matrices with mismatch dimensions\n",
    "a = np.random.randint(0, 20, (2,3))\n",
    "b = np.random.randint(0, 20, (8,2))\n",
    "c = subtract_two_matrices(a, b)"
   ]
  },
  {
   "cell_type": "markdown",
   "metadata": {},
   "source": [
    "# $$\\Large Multiplication\\ of\\ Matrices/Tensors\\\\ $$\n",
    "\n",
    "$$ \\Large A_{m \\times r} \\cdot B_{r \\times n}  = \\\\\n",
    "\\large \\begin{matrix}\n",
    " a_{11} & a_{12}    & \\ldots &  a_{1r}\\\\\n",
    " a_{21}  &   a_{22} & \\ldots &  a_{2r}\\\\\n",
    "\\vdots & \\vdots & \\ddots & \\vdots\\\\\n",
    " a_{m1}  &    a_{m2}       &\\ldots &  a_{mr}\n",
    "\\end{matrix} \\ * \\ \\begin{matrix}\n",
    " b_{11} & b_{12}    & \\ldots &  b_{1n}\\\\\n",
    " b_{21}  &   b_{22} & \\ldots &  b_{2n}\\\\\n",
    "\\vdots & \\vdots & \\ddots & \\vdots\\\\\n",
    " b_{r1}  &    b_{r2}       &\\ldots &  b_{rn}\n",
    "\\end{matrix} = \n",
    "\\begin{matrix}\n",
    " c_{11} & c_{12}    & \\ldots &  c_{1r}\\\\\n",
    " c_{21}  &   c_{22} & \\ldots &  c_{2r}\\\\\n",
    "\\vdots & \\vdots & \\ddots & \\vdots\\\\\n",
    " c_{r1}  &    c_{r2}       &\\ldots &  c_{rr}\n",
    "\\end{matrix} \\\\\n",
    "$$\n",
    "\n",
    "$$\n",
    "    \\Large Where\\ A_r\\ = \\ B_r\\ and\\ C\\ is\\ r\\times r \\ matrix\n",
    "$$"
   ]
  },
  {
   "cell_type": "code",
   "execution_count": null,
   "metadata": {},
   "outputs": [],
   "source": [
    "# Two matrices with proper dimensions\n",
    "a = np.random.randint(0, 20, (7,3))\n",
    "b = np.random.randint(0, 20, (3,20))\n",
    "c = multiply_two_matrices(a, b)"
   ]
  },
  {
   "cell_type": "markdown",
   "metadata": {},
   "source": [
    "## Two Matrices with mismatch dimensions... an invalid operation"
   ]
  },
  {
   "cell_type": "code",
   "execution_count": null,
   "metadata": {},
   "outputs": [],
   "source": [
    "# Two matrices with improper dimensions\n",
    "a = np.random.randint(0, 20, (7,7))\n",
    "b = np.random.randint(0, 20, (3,20))\n",
    "c = multiply_two_matrices(a, b)"
   ]
  },
  {
   "cell_type": "markdown",
   "metadata": {},
   "source": [
    "# $$\\large Scalar\\ Multiple \\ of\\ a \\ Matrix/Tensor \\\\\n",
    "5A = \\begin{matrix}\n",
    "5a_{11} & 5a_{12}    & \\ldots & 5a_{1n}\\\\\n",
    "5a_{21}  &  5a_{22} & \\ldots & 5a_{2n}\\\\\n",
    "\\vdots & \\vdots & \\ddots & \\vdots\\\\\n",
    "5a_{m1}  &   5a_{m2}       &\\ldots & 5a_{mn}\n",
    "\\end{matrix} \\\\ $$\n"
   ]
  },
  {
   "cell_type": "code",
   "execution_count": null,
   "metadata": {},
   "outputs": [],
   "source": [
    "a = np.random.randint(0,10, (2,6))\n",
    "print(f'Matrix a before scaled\\n{\"=\"*48}\\n{a}\\n')\n",
    "print(f'Matrix a Scaled by 5\\n{\"=\"*48}\\n{5 * a}')"
   ]
  },
  {
   "cell_type": "markdown",
   "metadata": {},
   "source": [
    "# $$ \\Large Transpose\\ of\\ a\\ Matrix $$\n",
    "$$ \\Large Simply\\ put\\ A^\\mathsf{T}_{ij} = A_{ji}   $$\n",
    "\n",
    "<center> <img src=\"trans.gif\">"
   ]
  },
  {
   "cell_type": "code",
   "execution_count": null,
   "metadata": {},
   "outputs": [],
   "source": [
    "a = np.random.randint(0, 20, (3,2, 2))\n",
    "print(f'Before transpose: \\n{\"=\" * 48}\\n {a}')\n",
    "a = np.transpose(a);\n",
    "print()\n",
    "print(f'After transpose: \\n{\"=\" * 48}\\n {a}')"
   ]
  },
  {
   "cell_type": "markdown",
   "metadata": {},
   "source": [
    "# Gauss-Jordan method"
   ]
  },
  {
   "cell_type": "code",
   "execution_count": null,
   "metadata": {},
   "outputs": [],
   "source": [
    "from numpy.linalg import solve\n",
    "\n",
    "linCombo = np.eye(5)\n",
    "answer = np.random.rand(5)\n",
    "\n",
    "print(f'Linear combo:\\n {linCombo} *x =  {answer}')\n",
    "solution = solve(linCombo, np.transpose(answer))\n",
    "print(f'\\nWhere x = {solution.reshape(-1,1) }')\n",
    "print()\n",
    "\n",
    "\n",
    "linCombo = np.array([[0,0,1,0], [2,4,1,2], [9,3,1,.8], [22, .128, 4, 9]])\n",
    "answer = np.array([0, 2, 30, 8])\n",
    "\n",
    "print(f'Linear combo:\\n {linCombo} *x =  {answer}')\n",
    "solution = solve(linCombo, np.transpose(answer))\n",
    "print(f'\\nWhere x = {solution.reshape(-1,1) }')\n",
    "print()"
   ]
  },
  {
   "cell_type": "markdown",
   "metadata": {},
   "source": [
    "# Inverse of a Matrix"
   ]
  },
  {
   "cell_type": "code",
   "execution_count": null,
   "metadata": {},
   "outputs": [],
   "source": [
    "a = np.random.randint(0, 22,(2, 4))\n",
    "print(f'Before Inverse Operation: \\n{\"=\" * 48}\\n {a}')\n",
    "a = np.invert(a)\n",
    "print()\n",
    "print(f'After Inverse Operation: \\n{\"=\" * 48}\\n {a}')"
   ]
  },
  {
   "cell_type": "markdown",
   "metadata": {},
   "source": [
    "# Rank of a Matrix/Tensor"
   ]
  },
  {
   "cell_type": "code",
   "execution_count": null,
   "metadata": {},
   "outputs": [],
   "source": [
    "from numpy.linalg import matrix_rank\n",
    "\n",
    "# A 4x4 identity array\n",
    "i = np.eye(4)\n",
    "print(f'{i}\\n Rank: {matrix_rank(i)}')\n",
    "print()\n",
    "\n",
    "# Same array but with zeros in the last row\n",
    "i[-1][:] = np.zeros((1,i.shape[1]))\n",
    "print(f'{i}\\n Rank: {matrix_rank(i)}')\n"
   ]
  },
  {
   "cell_type": "markdown",
   "metadata": {},
   "source": [
    "# Determinates of Matrices/Tensors"
   ]
  },
  {
   "cell_type": "code",
   "execution_count": null,
   "metadata": {},
   "outputs": [],
   "source": [
    "from numpy.linalg import det\n",
    "\n",
    "a = np.random.randint(1, 10, (2, 2))\n",
    "print(f'{a}\\n Determinate: {det(a):.2f}')\n",
    "print()\n",
    "\n",
    "norm = np.random.randint(0,14,(5,5))\n",
    "print(f'{norm}\\n Determinate: \\n{det(norm):.2f}\\n')\n",
    "print()"
   ]
  }
 ],
 "metadata": {
  "kernelspec": {
   "display_name": "Python 3",
   "language": "python",
   "name": "python3"
  },
  "language_info": {
   "codemirror_mode": {
    "name": "ipython",
    "version": 3
   },
   "file_extension": ".py",
   "mimetype": "text/x-python",
   "name": "python",
   "nbconvert_exporter": "python",
   "pygments_lexer": "ipython3",
   "version": "3.6.2"
  }
 },
 "nbformat": 4,
 "nbformat_minor": 2
}
